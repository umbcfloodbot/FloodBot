{
  "cells": [
    {
      "cell_type": "markdown",
      "metadata": {
        "id": "view-in-github",
        "colab_type": "text"
      },
      "source": [
        "<a href=\"https://colab.research.google.com/github/umbcfloodbot/FloodBot/blob/main/DataAnnotate.ipynb\" target=\"_parent\"><img src=\"https://colab.research.google.com/assets/colab-badge.svg\" alt=\"Open In Colab\"/></a>"
      ]
    },
    {
      "cell_type": "markdown",
      "metadata": {
        "id": "mj3G8wQ1OmaC"
      },
      "source": [
        "## 1. Instal and Import Packages"
      ]
    },
    {
      "cell_type": "code",
      "execution_count": null,
      "metadata": {
        "colab": {
          "base_uri": "https://localhost:8080/"
        },
        "id": "CdmLiLaorAaA",
        "outputId": "b79c4053-3db3-4b65-e8b5-6a655f2ebb0f"
      },
      "outputs": [
        {
          "output_type": "stream",
          "name": "stdout",
          "text": [
            "Collecting pydub\n",
            "  Downloading pydub-0.25.1-py2.py3-none-any.whl (32 kB)\n",
            "Installing collected packages: pydub\n",
            "Successfully installed pydub-0.25.1\n"
          ]
        }
      ],
      "source": [
        "!pip install pydub"
      ]
    },
    {
      "cell_type": "code",
      "execution_count": null,
      "metadata": {
        "colab": {
          "base_uri": "https://localhost:8080/"
        },
        "id": "g-vbW8dVEMd9",
        "outputId": "a29dfd7b-4a98-4384-bd19-3dd0e44f4333"
      },
      "outputs": [
        {
          "output_type": "stream",
          "name": "stdout",
          "text": [
            "Collecting ffmpeg-python\n",
            "  Downloading ffmpeg_python-0.2.0-py3-none-any.whl (25 kB)\n",
            "Requirement already satisfied: future in /usr/local/lib/python3.7/dist-packages (from ffmpeg-python) (0.16.0)\n",
            "Installing collected packages: ffmpeg-python\n",
            "Successfully installed ffmpeg-python-0.2.0\n"
          ]
        }
      ],
      "source": [
        "! pip install ffmpeg-python"
      ]
    },
    {
      "cell_type": "code",
      "execution_count": null,
      "metadata": {
        "colab": {
          "base_uri": "https://localhost:8080/"
        },
        "id": "lgmEF9Twq3xl",
        "outputId": "5949e859-f07e-4d12-fcc8-faf40ae0da45"
      },
      "outputs": [
        {
          "output_type": "stream",
          "name": "stdout",
          "text": [
            "Imageio: 'ffmpeg-linux64-v3.3.1' was not found on your computer; downloading it now.\n",
            "Try 1. Download from https://github.com/imageio/imageio-binaries/raw/master/ffmpeg/ffmpeg-linux64-v3.3.1 (43.8 MB)\n",
            "Downloading: 8192/45929032 bytes (0.0%)\b\b\b\b\b\b\b\b\b\b\b\b\b\b\b\b\b\b\b\b\b\b\b\b\b\b2662400/45929032 bytes (5.8%)\b\b\b\b\b\b\b\b\b\b\b\b\b\b\b\b\b\b\b\b\b\b\b\b\b\b\b\b\b5431296/45929032 bytes (11.8%)\b\b\b\b\b\b\b\b\b\b\b\b\b\b\b\b\b\b\b\b\b\b\b\b\b\b\b\b\b\b8626176/45929032 bytes (18.8%)\b\b\b\b\b\b\b\b\b\b\b\b\b\b\b\b\b\b\b\b\b\b\b\b\b\b\b\b\b\b11370496/45929032 bytes (24.8%)\b\b\b\b\b\b\b\b\b\b\b\b\b\b\b\b\b\b\b\b\b\b\b\b\b\b\b\b\b\b\b14622720/45929032 bytes (31.8%)\b\b\b\b\b\b\b\b\b\b\b\b\b\b\b\b\b\b\b\b\b\b\b\b\b\b\b\b\b\b\b17645568/45929032 bytes (38.4%)\b\b\b\b\b\b\b\b\b\b\b\b\b\b\b\b\b\b\b\b\b\b\b\b\b\b\b\b\b\b\b20668416/45929032 bytes (45.0%)\b\b\b\b\b\b\b\b\b\b\b\b\b\b\b\b\b\b\b\b\b\b\b\b\b\b\b\b\b\b\b23912448/45929032 bytes (52.1%)\b\b\b\b\b\b\b\b\b\b\b\b\b\b\b\b\b\b\b\b\b\b\b\b\b\b\b\b\b\b\b26804224/45929032 bytes (58.4%)\b\b\b\b\b\b\b\b\b\b\b\b\b\b\b\b\b\b\b\b\b\b\b\b\b\b\b\b\b\b\b30015488/45929032 bytes (65.4%)\b\b\b\b\b\b\b\b\b\b\b\b\b\b\b\b\b\b\b\b\b\b\b\b\b\b\b\b\b\b\b32874496/45929032 bytes (71.6%)\b\b\b\b\b\b\b\b\b\b\b\b\b\b\b\b\b\b\b\b\b\b\b\b\b\b\b\b\b\b\b35651584/45929032 bytes (77.6%)\b\b\b\b\b\b\b\b\b\b\b\b\b\b\b\b\b\b\b\b\b\b\b\b\b\b\b\b\b\b\b38494208/45929032 bytes (83.8%)\b\b\b\b\b\b\b\b\b\b\b\b\b\b\b\b\b\b\b\b\b\b\b\b\b\b\b\b\b\b\b41082880/45929032 bytes (89.4%)\b\b\b\b\b\b\b\b\b\b\b\b\b\b\b\b\b\b\b\b\b\b\b\b\b\b\b\b\b\b\b44294144/45929032 bytes (96.4%)\b\b\b\b\b\b\b\b\b\b\b\b\b\b\b\b\b\b\b\b\b\b\b\b\b\b\b\b\b\b\b45929032/45929032 bytes (100.0%)\n",
            "  Done\n",
            "File saved as /root/.imageio/ffmpeg/ffmpeg-linux64-v3.3.1.\n"
          ]
        }
      ],
      "source": [
        "import cv2\n",
        "import numpy as np\n",
        "import os\n",
        "import pandas as pd\n",
        "import platform\n",
        "import sqlalchemy\n",
        "#import mysql.connector\n",
        "import requests\n",
        "import json\n",
        "from pandas.io.json import json_normalize\n",
        "import time\n",
        "import librosa\n",
        "import matplotlib.pyplot as plt\n",
        "import IPython.display as ipd\n",
        "import librosa\n",
        "import librosa.display\n",
        "import warnings\n",
        "warnings.filterwarnings(\"ignore\")\n",
        "from pydub import AudioSegment\n",
        "from moviepy.editor import *\n",
        "import subprocess\n",
        "import os\n",
        "import sys\n",
        "#import Pillow\n",
        "import ffmpeg\n",
        "import sys\n",
        "import json\n",
        "from pprint import pprint # for printing Python dictionaries in a human-readable way"
      ]
    },
    {
      "cell_type": "markdown",
      "metadata": {
        "id": "SZmWsvLcOvsK"
      },
      "source": [
        "### 2. CONNECT TO COLAB FOLDERS"
      ]
    },
    {
      "cell_type": "code",
      "execution_count": null,
      "metadata": {
        "id": "DDJbujWuV3ZX"
      },
      "outputs": [],
      "source": [
        "pd.set_option('display.max_colwidth', -1)"
      ]
    },
    {
      "cell_type": "code",
      "execution_count": null,
      "metadata": {
        "colab": {
          "base_uri": "https://localhost:8080/"
        },
        "id": "rzNHwlnfrJVu",
        "outputId": "455383cf-2a92-40b1-b453-1b89a1320cb8"
      },
      "outputs": [
        {
          "output_type": "stream",
          "name": "stdout",
          "text": [
            "Mounted at /content/drive\n"
          ]
        }
      ],
      "source": [
        "from google.colab import drive\n",
        "drive.mount('/content/drive', force_remount=True)\n",
        "directory = \"/content/drive/My Drive/thesis_work/audio/\"\n",
        "weather_csv =  \"/content/drive/My Drive/thesis_work/weather_csv/\"\n",
        "trim_directory = \"/content/drive/My Drive/thesis_work/trim/\"\n",
        "orig_image_dir = \"/content/drive/My Drive/thesis_work/orig/\"\n",
        "os.chdir(directory)"
      ]
    },
    {
      "cell_type": "code",
      "execution_count": null,
      "metadata": {
        "id": "DN1ruG4XQh4i"
      },
      "outputs": [],
      "source": [
        "from datetime import datetime\n",
        "now = datetime.now()\n",
        "today_dt=now.strftime(\"%Y%m%d%H\")"
      ]
    },
    {
      "cell_type": "markdown",
      "metadata": {
        "id": "_LphzgcqO1CF"
      },
      "source": [
        "### 3. LOCATE FOLDER WITH VIDEO"
      ]
    },
    {
      "cell_type": "code",
      "execution_count": null,
      "metadata": {
        "id": "U6QT3459f-Ef"
      },
      "outputs": [],
      "source": [
        "Vid_fldr1 = '/content/drive/My Drive/thesis_work/FlBot_Video_112721_021822'\n",
        "Vid_fldr2 = '/content/drive/My Drive/thesis_work/audio/PhD_Thesis/data/video'\n",
        "Vid_fldr3 = '/content/drive/My Drive/thesis_work/audio/PhD_Thesis/data/amzn_video'\n",
        "Vid_fldr4 = '/content/drive/My Drive/thesis_work/audio/PhD_Thesis/data/video_2020_21'"
      ]
    },
    {
      "cell_type": "markdown",
      "metadata": {
        "id": "e317SA4hPJnY"
      },
      "source": [
        "#### 3.1 First Group of Folder"
      ]
    },
    {
      "cell_type": "code",
      "execution_count": null,
      "metadata": {
        "id": "aB934_sNf9WI"
      },
      "outputs": [],
      "source": [
        "import os\n",
        "from glob import glob\n",
        "# Iterate over the list of filepaths & remove each file.\n",
        "\n",
        "mpg_files = [] \n",
        "mp4 = glob(Vid_fldr1+ '/*.mp4')\n",
        "\n",
        "for j in mp4:\n",
        "    try:\n",
        "        #os.remove(j)\n",
        "        mpg_files.append(j)\n",
        "    except OSError:\n",
        "        print(\"Error while adding file\")"
      ]
    },
    {
      "cell_type": "code",
      "execution_count": null,
      "metadata": {
        "id": "n3S5CzFRhSPZ"
      },
      "outputs": [],
      "source": [
        "df_vid_list1 = pd.DataFrame(mpg_files,columns = ['Orig_vid_loc'] )"
      ]
    },
    {
      "cell_type": "code",
      "execution_count": null,
      "metadata": {
        "colab": {
          "base_uri": "https://localhost:8080/",
          "height": 112
        },
        "id": "oszt1F39hfAw",
        "outputId": "fe91a06d-2024-4f3d-bf62-265180a44675"
      },
      "outputs": [
        {
          "data": {
            "text/html": [
              "\n",
              "  <div id=\"df-cc5da88f-80f8-42de-8ad5-62117d457a1b\">\n",
              "    <div class=\"colab-df-container\">\n",
              "      <div>\n",
              "<style scoped>\n",
              "    .dataframe tbody tr th:only-of-type {\n",
              "        vertical-align: middle;\n",
              "    }\n",
              "\n",
              "    .dataframe tbody tr th {\n",
              "        vertical-align: top;\n",
              "    }\n",
              "\n",
              "    .dataframe thead th {\n",
              "        text-align: right;\n",
              "    }\n",
              "</style>\n",
              "<table border=\"1\" class=\"dataframe\">\n",
              "  <thead>\n",
              "    <tr style=\"text-align: right;\">\n",
              "      <th></th>\n",
              "      <th>Orig_vid_loc</th>\n",
              "    </tr>\n",
              "  </thead>\n",
              "  <tbody>\n",
              "    <tr>\n",
              "      <th>0</th>\n",
              "      <td>/content/drive/My Drive/thesis_work/FlBot_Video_112721_021822/Rec_20211129_142725_151_M.mp4</td>\n",
              "    </tr>\n",
              "    <tr>\n",
              "      <th>1</th>\n",
              "      <td>/content/drive/My Drive/thesis_work/FlBot_Video_112721_021822/Rec_20211129_142930_151_M.mp4</td>\n",
              "    </tr>\n",
              "  </tbody>\n",
              "</table>\n",
              "</div>\n",
              "      <button class=\"colab-df-convert\" onclick=\"convertToInteractive('df-cc5da88f-80f8-42de-8ad5-62117d457a1b')\"\n",
              "              title=\"Convert this dataframe to an interactive table.\"\n",
              "              style=\"display:none;\">\n",
              "        \n",
              "  <svg xmlns=\"http://www.w3.org/2000/svg\" height=\"24px\"viewBox=\"0 0 24 24\"\n",
              "       width=\"24px\">\n",
              "    <path d=\"M0 0h24v24H0V0z\" fill=\"none\"/>\n",
              "    <path d=\"M18.56 5.44l.94 2.06.94-2.06 2.06-.94-2.06-.94-.94-2.06-.94 2.06-2.06.94zm-11 1L8.5 8.5l.94-2.06 2.06-.94-2.06-.94L8.5 2.5l-.94 2.06-2.06.94zm10 10l.94 2.06.94-2.06 2.06-.94-2.06-.94-.94-2.06-.94 2.06-2.06.94z\"/><path d=\"M17.41 7.96l-1.37-1.37c-.4-.4-.92-.59-1.43-.59-.52 0-1.04.2-1.43.59L10.3 9.45l-7.72 7.72c-.78.78-.78 2.05 0 2.83L4 21.41c.39.39.9.59 1.41.59.51 0 1.02-.2 1.41-.59l7.78-7.78 2.81-2.81c.8-.78.8-2.07 0-2.86zM5.41 20L4 18.59l7.72-7.72 1.47 1.35L5.41 20z\"/>\n",
              "  </svg>\n",
              "      </button>\n",
              "      \n",
              "  <style>\n",
              "    .colab-df-container {\n",
              "      display:flex;\n",
              "      flex-wrap:wrap;\n",
              "      gap: 12px;\n",
              "    }\n",
              "\n",
              "    .colab-df-convert {\n",
              "      background-color: #E8F0FE;\n",
              "      border: none;\n",
              "      border-radius: 50%;\n",
              "      cursor: pointer;\n",
              "      display: none;\n",
              "      fill: #1967D2;\n",
              "      height: 32px;\n",
              "      padding: 0 0 0 0;\n",
              "      width: 32px;\n",
              "    }\n",
              "\n",
              "    .colab-df-convert:hover {\n",
              "      background-color: #E2EBFA;\n",
              "      box-shadow: 0px 1px 2px rgba(60, 64, 67, 0.3), 0px 1px 3px 1px rgba(60, 64, 67, 0.15);\n",
              "      fill: #174EA6;\n",
              "    }\n",
              "\n",
              "    [theme=dark] .colab-df-convert {\n",
              "      background-color: #3B4455;\n",
              "      fill: #D2E3FC;\n",
              "    }\n",
              "\n",
              "    [theme=dark] .colab-df-convert:hover {\n",
              "      background-color: #434B5C;\n",
              "      box-shadow: 0px 1px 3px 1px rgba(0, 0, 0, 0.15);\n",
              "      filter: drop-shadow(0px 1px 2px rgba(0, 0, 0, 0.3));\n",
              "      fill: #FFFFFF;\n",
              "    }\n",
              "  </style>\n",
              "\n",
              "      <script>\n",
              "        const buttonEl =\n",
              "          document.querySelector('#df-cc5da88f-80f8-42de-8ad5-62117d457a1b button.colab-df-convert');\n",
              "        buttonEl.style.display =\n",
              "          google.colab.kernel.accessAllowed ? 'block' : 'none';\n",
              "\n",
              "        async function convertToInteractive(key) {\n",
              "          const element = document.querySelector('#df-cc5da88f-80f8-42de-8ad5-62117d457a1b');\n",
              "          const dataTable =\n",
              "            await google.colab.kernel.invokeFunction('convertToInteractive',\n",
              "                                                     [key], {});\n",
              "          if (!dataTable) return;\n",
              "\n",
              "          const docLinkHtml = 'Like what you see? Visit the ' +\n",
              "            '<a target=\"_blank\" href=https://colab.research.google.com/notebooks/data_table.ipynb>data table notebook</a>'\n",
              "            + ' to learn more about interactive tables.';\n",
              "          element.innerHTML = '';\n",
              "          dataTable['output_type'] = 'display_data';\n",
              "          await google.colab.output.renderOutput(dataTable, element);\n",
              "          const docLink = document.createElement('div');\n",
              "          docLink.innerHTML = docLinkHtml;\n",
              "          element.appendChild(docLink);\n",
              "        }\n",
              "      </script>\n",
              "    </div>\n",
              "  </div>\n",
              "  "
            ],
            "text/plain": [
              "                                                                                  Orig_vid_loc\n",
              "0  /content/drive/My Drive/thesis_work/FlBot_Video_112721_021822/Rec_20211129_142725_151_M.mp4\n",
              "1  /content/drive/My Drive/thesis_work/FlBot_Video_112721_021822/Rec_20211129_142930_151_M.mp4"
            ]
          },
          "execution_count": 10,
          "metadata": {},
          "output_type": "execute_result"
        }
      ],
      "source": [
        "df_vid_list1.head(2)"
      ]
    },
    {
      "cell_type": "code",
      "execution_count": null,
      "metadata": {
        "colab": {
          "background_save": true
        },
        "id": "VA8ZmE5ehqIE",
        "outputId": "29f46487-274b-4031-ffe5-5fd6fc352c42"
      },
      "outputs": [
        {
          "data": {
            "text/html": [
              "\n",
              "  <div id=\"df-6585e00f-4f8a-4f10-9274-900fc21d9603\">\n",
              "    <div class=\"colab-df-container\">\n",
              "      <div>\n",
              "<style scoped>\n",
              "    .dataframe tbody tr th:only-of-type {\n",
              "        vertical-align: middle;\n",
              "    }\n",
              "\n",
              "    .dataframe tbody tr th {\n",
              "        vertical-align: top;\n",
              "    }\n",
              "\n",
              "    .dataframe thead th {\n",
              "        text-align: right;\n",
              "    }\n",
              "</style>\n",
              "<table border=\"1\" class=\"dataframe\">\n",
              "  <thead>\n",
              "    <tr style=\"text-align: right;\">\n",
              "      <th></th>\n",
              "      <th>FileName</th>\n",
              "      <th>creation_time</th>\n",
              "      <th>Vid_lngth_sec</th>\n",
              "      <th>Vid_size_KB</th>\n",
              "      <th>Frm_Width</th>\n",
              "      <th>Frm_Height</th>\n",
              "      <th>Tot_Img_Frames</th>\n",
              "      <th>Vid_frm_rate</th>\n",
              "      <th>Aud_sample_rate</th>\n",
              "      <th>Tot_aud_Frames</th>\n",
              "      <th>Aud_Chanel</th>\n",
              "      <th>Aud_max_bit_rate</th>\n",
              "    </tr>\n",
              "  </thead>\n",
              "  <tbody>\n",
              "    <tr>\n",
              "      <th>1460</th>\n",
              "      <td>/content/drive/My Drive/thesis_work/FlBot_Video_112721_021822/Rec_20211127_210654_151_M.mp4</td>\n",
              "      <td>2021-11-27T21:07:10.000000Z</td>\n",
              "      <td>14.640</td>\n",
              "      <td>4922162</td>\n",
              "      <td>1072.0</td>\n",
              "      <td>1920.0</td>\n",
              "      <td>220</td>\n",
              "      <td>2750/183</td>\n",
              "      <td>16000.0</td>\n",
              "      <td>229</td>\n",
              "      <td>mono</td>\n",
              "      <td>127313.0</td>\n",
              "    </tr>\n",
              "    <tr>\n",
              "      <th>1479</th>\n",
              "      <td>/content/drive/My Drive/thesis_work/FlBot_Video_112721_021822/Rec_20211128_192844_151_M.mp4</td>\n",
              "      <td>2021-11-28T19:29:00.000000Z</td>\n",
              "      <td>15.241</td>\n",
              "      <td>4964087</td>\n",
              "      <td>1072.0</td>\n",
              "      <td>1920.0</td>\n",
              "      <td>229</td>\n",
              "      <td>229000/15241</td>\n",
              "      <td>16000.0</td>\n",
              "      <td>238</td>\n",
              "      <td>mono</td>\n",
              "      <td>127313.0</td>\n",
              "    </tr>\n",
              "  </tbody>\n",
              "</table>\n",
              "</div>\n",
              "      <button class=\"colab-df-convert\" onclick=\"convertToInteractive('df-6585e00f-4f8a-4f10-9274-900fc21d9603')\"\n",
              "              title=\"Convert this dataframe to an interactive table.\"\n",
              "              style=\"display:none;\">\n",
              "        \n",
              "  <svg xmlns=\"http://www.w3.org/2000/svg\" height=\"24px\"viewBox=\"0 0 24 24\"\n",
              "       width=\"24px\">\n",
              "    <path d=\"M0 0h24v24H0V0z\" fill=\"none\"/>\n",
              "    <path d=\"M18.56 5.44l.94 2.06.94-2.06 2.06-.94-2.06-.94-.94-2.06-.94 2.06-2.06.94zm-11 1L8.5 8.5l.94-2.06 2.06-.94-2.06-.94L8.5 2.5l-.94 2.06-2.06.94zm10 10l.94 2.06.94-2.06 2.06-.94-2.06-.94-.94-2.06-.94 2.06-2.06.94z\"/><path d=\"M17.41 7.96l-1.37-1.37c-.4-.4-.92-.59-1.43-.59-.52 0-1.04.2-1.43.59L10.3 9.45l-7.72 7.72c-.78.78-.78 2.05 0 2.83L4 21.41c.39.39.9.59 1.41.59.51 0 1.02-.2 1.41-.59l7.78-7.78 2.81-2.81c.8-.78.8-2.07 0-2.86zM5.41 20L4 18.59l7.72-7.72 1.47 1.35L5.41 20z\"/>\n",
              "  </svg>\n",
              "      </button>\n",
              "      \n",
              "  <style>\n",
              "    .colab-df-container {\n",
              "      display:flex;\n",
              "      flex-wrap:wrap;\n",
              "      gap: 12px;\n",
              "    }\n",
              "\n",
              "    .colab-df-convert {\n",
              "      background-color: #E8F0FE;\n",
              "      border: none;\n",
              "      border-radius: 50%;\n",
              "      cursor: pointer;\n",
              "      display: none;\n",
              "      fill: #1967D2;\n",
              "      height: 32px;\n",
              "      padding: 0 0 0 0;\n",
              "      width: 32px;\n",
              "    }\n",
              "\n",
              "    .colab-df-convert:hover {\n",
              "      background-color: #E2EBFA;\n",
              "      box-shadow: 0px 1px 2px rgba(60, 64, 67, 0.3), 0px 1px 3px 1px rgba(60, 64, 67, 0.15);\n",
              "      fill: #174EA6;\n",
              "    }\n",
              "\n",
              "    [theme=dark] .colab-df-convert {\n",
              "      background-color: #3B4455;\n",
              "      fill: #D2E3FC;\n",
              "    }\n",
              "\n",
              "    [theme=dark] .colab-df-convert:hover {\n",
              "      background-color: #434B5C;\n",
              "      box-shadow: 0px 1px 3px 1px rgba(0, 0, 0, 0.15);\n",
              "      filter: drop-shadow(0px 1px 2px rgba(0, 0, 0, 0.3));\n",
              "      fill: #FFFFFF;\n",
              "    }\n",
              "  </style>\n",
              "\n",
              "      <script>\n",
              "        const buttonEl =\n",
              "          document.querySelector('#df-6585e00f-4f8a-4f10-9274-900fc21d9603 button.colab-df-convert');\n",
              "        buttonEl.style.display =\n",
              "          google.colab.kernel.accessAllowed ? 'block' : 'none';\n",
              "\n",
              "        async function convertToInteractive(key) {\n",
              "          const element = document.querySelector('#df-6585e00f-4f8a-4f10-9274-900fc21d9603');\n",
              "          const dataTable =\n",
              "            await google.colab.kernel.invokeFunction('convertToInteractive',\n",
              "                                                     [key], {});\n",
              "          if (!dataTable) return;\n",
              "\n",
              "          const docLinkHtml = 'Like what you see? Visit the ' +\n",
              "            '<a target=\"_blank\" href=https://colab.research.google.com/notebooks/data_table.ipynb>data table notebook</a>'\n",
              "            + ' to learn more about interactive tables.';\n",
              "          element.innerHTML = '';\n",
              "          dataTable['output_type'] = 'display_data';\n",
              "          await google.colab.output.renderOutput(dataTable, element);\n",
              "          const docLink = document.createElement('div');\n",
              "          docLink.innerHTML = docLinkHtml;\n",
              "          element.appendChild(docLink);\n",
              "        }\n",
              "      </script>\n",
              "    </div>\n",
              "  </div>\n",
              "  "
            ],
            "text/plain": [
              "                                                                                         FileName  \\\n",
              "1460  /content/drive/My Drive/thesis_work/FlBot_Video_112721_021822/Rec_20211127_210654_151_M.mp4   \n",
              "1479  /content/drive/My Drive/thesis_work/FlBot_Video_112721_021822/Rec_20211128_192844_151_M.mp4   \n",
              "\n",
              "                    creation_time  Vid_lngth_sec  Vid_size_KB  Frm_Width  \\\n",
              "1460  2021-11-27T21:07:10.000000Z  14.640         4922162      1072.0      \n",
              "1479  2021-11-28T19:29:00.000000Z  15.241         4964087      1072.0      \n",
              "\n",
              "      Frm_Height  Tot_Img_Frames  Vid_frm_rate  Aud_sample_rate  \\\n",
              "1460  1920.0      220             2750/183      16000.0           \n",
              "1479  1920.0      229             229000/15241  16000.0           \n",
              "\n",
              "      Tot_aud_Frames Aud_Chanel  Aud_max_bit_rate  \n",
              "1460  229             mono       127313.0          \n",
              "1479  238             mono       127313.0          "
            ]
          },
          "execution_count": null,
          "metadata": {},
          "output_type": "execute_result"
        }
      ],
      "source": [
        "Final_df1 = pd.DataFrame()\n",
        "\n",
        "\n",
        "#for row in df_vid_list2.head(5).itertuples():\n",
        "for row in df_vid_list1.itertuples():\n",
        "  vid= row.Orig_vid_loc\n",
        "  #print(vid)\n",
        "  vid_Json1 = (ffmpeg.probe(vid)[\"format\"])\n",
        "  vid_Json2 = (ffmpeg.probe(vid)[\"streams\"])\n",
        "  with open('data.json', 'w') as f:\n",
        "      json.dump(vid_Json1, f)\n",
        "\n",
        "  with open('data1.json', 'w') as f:\n",
        "      json.dump(vid_Json2, f)    \n",
        "\n",
        "  df = pd.read_json('data.json')\n",
        "  df1 = pd.read_json('data1.json')\n",
        "  df_video = df1.loc[df1['codec_type'] == 'video']\n",
        "  df_audio = df1.loc[df1['codec_type'] == 'audio']\n",
        "  df= df[['filename','tags','duration','size']]\n",
        "  df_video = df_video[['width','height','nb_frames','duration_ts','duration','avg_frame_rate']]\n",
        "  df_audio = df_audio[['sample_rate','channels','nb_frames','channel_layout','max_bit_rate']]\n",
        "  #df1= df1[['nb_frames','width','height']]\n",
        "  #df= df[['filename','tags','duration','size']]\n",
        "  time= df.iloc[1,1]\n",
        "  fname= df.iloc[0,0]\n",
        "  durn = df_video.iloc[0,4]\n",
        "  vid_frm_rt=df_video.iloc[0,5]\n",
        "  #vid_frm_ttl=df_video.iloc[0,3]\n",
        "  size = df.iloc[0,3]\n",
        "  wdth= df_video.iloc[0,1]\n",
        "  hgth = df_video.iloc[0,0]\n",
        "  vid_frames = df_video.iloc[0,2]\n",
        "  aud_smpl_rt = df_audio.iloc[0,0]\n",
        "  aud_frames = df_audio.iloc[0,2]\n",
        "  aud_chnl = df_audio.iloc[0,3]\n",
        "  aud_max_bit_rate = df_audio.iloc[0,4]\n",
        "  #print(wdth)\n",
        "  #print(hgth)\n",
        "  #video_meta_df2 =video_meta_df1\n",
        "  video_meta_df2 = pd.DataFrame([[fname,time,durn,size,wdth,hgth,vid_frames,vid_frm_rt,aud_smpl_rt,aud_frames,aud_chnl,aud_max_bit_rate]]\n",
        "                                ,columns=['FileName','creation_time','Vid_lngth_sec','Vid_size_KB','Frm_Width','Frm_Height','Tot_Img_Frames',\n",
        "                                          'Vid_frm_rate','Aud_sample_rate','Tot_aud_Frames','Aud_Chanel','Aud_max_bit_rate'])\n",
        "  Final_df1 = pd.concat([Final_df1,video_meta_df2], ignore_index=True)\n",
        "\n",
        "#Final_df2 =Final_df2[['FileName','creation_time']]\n",
        "#Final_df2 =Final_df2[['FileName','creation_time']]\n",
        "Final_df1=Final_df1.drop_duplicates()\n",
        "Final_df1.to_csv('Final_df1a_'+today_dt+'.csv',index=False)\n",
        "Final_df1.sample(2)"
      ]
    },
    {
      "cell_type": "code",
      "execution_count": null,
      "metadata": {
        "colab": {
          "background_save": true
        },
        "id": "nWYeAaGdPaC9"
      },
      "outputs": [],
      "source": [
        "#df1 = pd.read_csv('Final_df2022030802.csv')"
      ]
    },
    {
      "cell_type": "code",
      "execution_count": null,
      "metadata": {
        "colab": {
          "background_save": true
        },
        "id": "fDqRm6ePXRCS",
        "outputId": "02ebb095-12a9-4dd2-ad0c-078f702cddfc"
      },
      "outputs": [
        {
          "data": {
            "text/html": [
              "\n",
              "  <div id=\"df-01203fde-d6c0-4e7c-8728-5f1b6f5642c1\">\n",
              "    <div class=\"colab-df-container\">\n",
              "      <div>\n",
              "<style scoped>\n",
              "    .dataframe tbody tr th:only-of-type {\n",
              "        vertical-align: middle;\n",
              "    }\n",
              "\n",
              "    .dataframe tbody tr th {\n",
              "        vertical-align: top;\n",
              "    }\n",
              "\n",
              "    .dataframe thead th {\n",
              "        text-align: right;\n",
              "    }\n",
              "</style>\n",
              "<table border=\"1\" class=\"dataframe\">\n",
              "  <thead>\n",
              "    <tr style=\"text-align: right;\">\n",
              "      <th></th>\n",
              "      <th>index</th>\n",
              "      <th>codec_name</th>\n",
              "      <th>codec_long_name</th>\n",
              "      <th>profile</th>\n",
              "      <th>codec_type</th>\n",
              "      <th>codec_time_base</th>\n",
              "      <th>codec_tag_string</th>\n",
              "      <th>codec_tag</th>\n",
              "      <th>width</th>\n",
              "      <th>height</th>\n",
              "      <th>...</th>\n",
              "      <th>bits_per_raw_sample</th>\n",
              "      <th>nb_frames</th>\n",
              "      <th>disposition</th>\n",
              "      <th>tags</th>\n",
              "      <th>sample_fmt</th>\n",
              "      <th>sample_rate</th>\n",
              "      <th>channels</th>\n",
              "      <th>channel_layout</th>\n",
              "      <th>bits_per_sample</th>\n",
              "      <th>max_bit_rate</th>\n",
              "    </tr>\n",
              "  </thead>\n",
              "  <tbody>\n",
              "    <tr>\n",
              "      <th>0</th>\n",
              "      <td>0</td>\n",
              "      <td>h264</td>\n",
              "      <td>H.264 / AVC / MPEG-4 AVC / MPEG-4 part 10</td>\n",
              "      <td>High</td>\n",
              "      <td>video</td>\n",
              "      <td>14707/442000</td>\n",
              "      <td>avc1</td>\n",
              "      <td>0x31637661</td>\n",
              "      <td>1920.0</td>\n",
              "      <td>1072.0</td>\n",
              "      <td>...</td>\n",
              "      <td>8.0</td>\n",
              "      <td>221</td>\n",
              "      <td>{'default': 1, 'dub': 0, 'original': 0, 'comment': 0, 'lyrics': 0, 'karaoke': 0, 'forced': 0, 'hearing_impaired': 0, 'visual_impaired': 0, 'clean_effects': 0, 'attached_pic': 0, 'timed_thumbnails': 0}</td>\n",
              "      <td>{'language': 'eng', 'handler_name': 'VideoHandler', 'encoder': 'AVC Coding'}</td>\n",
              "      <td>NaN</td>\n",
              "      <td>NaN</td>\n",
              "      <td>NaN</td>\n",
              "      <td>NaN</td>\n",
              "      <td>NaN</td>\n",
              "      <td>NaN</td>\n",
              "    </tr>\n",
              "    <tr>\n",
              "      <th>1</th>\n",
              "      <td>1</td>\n",
              "      <td>aac</td>\n",
              "      <td>AAC (Advanced Audio Coding)</td>\n",
              "      <td>LC</td>\n",
              "      <td>audio</td>\n",
              "      <td>1/16000</td>\n",
              "      <td>mp4a</td>\n",
              "      <td>0x6134706d</td>\n",
              "      <td>NaN</td>\n",
              "      <td>NaN</td>\n",
              "      <td>...</td>\n",
              "      <td>NaN</td>\n",
              "      <td>230</td>\n",
              "      <td>{'default': 1, 'dub': 0, 'original': 0, 'comment': 0, 'lyrics': 0, 'karaoke': 0, 'forced': 0, 'hearing_impaired': 0, 'visual_impaired': 0, 'clean_effects': 0, 'attached_pic': 0, 'timed_thumbnails': 0}</td>\n",
              "      <td>{'language': 'eng', 'handler_name': 'SoundHandler'}</td>\n",
              "      <td>fltp</td>\n",
              "      <td>16000.0</td>\n",
              "      <td>1.0</td>\n",
              "      <td>mono</td>\n",
              "      <td>0.0</td>\n",
              "      <td>127313.0</td>\n",
              "    </tr>\n",
              "  </tbody>\n",
              "</table>\n",
              "<p>2 rows × 39 columns</p>\n",
              "</div>\n",
              "      <button class=\"colab-df-convert\" onclick=\"convertToInteractive('df-01203fde-d6c0-4e7c-8728-5f1b6f5642c1')\"\n",
              "              title=\"Convert this dataframe to an interactive table.\"\n",
              "              style=\"display:none;\">\n",
              "        \n",
              "  <svg xmlns=\"http://www.w3.org/2000/svg\" height=\"24px\"viewBox=\"0 0 24 24\"\n",
              "       width=\"24px\">\n",
              "    <path d=\"M0 0h24v24H0V0z\" fill=\"none\"/>\n",
              "    <path d=\"M18.56 5.44l.94 2.06.94-2.06 2.06-.94-2.06-.94-.94-2.06-.94 2.06-2.06.94zm-11 1L8.5 8.5l.94-2.06 2.06-.94-2.06-.94L8.5 2.5l-.94 2.06-2.06.94zm10 10l.94 2.06.94-2.06 2.06-.94-2.06-.94-.94-2.06-.94 2.06-2.06.94z\"/><path d=\"M17.41 7.96l-1.37-1.37c-.4-.4-.92-.59-1.43-.59-.52 0-1.04.2-1.43.59L10.3 9.45l-7.72 7.72c-.78.78-.78 2.05 0 2.83L4 21.41c.39.39.9.59 1.41.59.51 0 1.02-.2 1.41-.59l7.78-7.78 2.81-2.81c.8-.78.8-2.07 0-2.86zM5.41 20L4 18.59l7.72-7.72 1.47 1.35L5.41 20z\"/>\n",
              "  </svg>\n",
              "      </button>\n",
              "      \n",
              "  <style>\n",
              "    .colab-df-container {\n",
              "      display:flex;\n",
              "      flex-wrap:wrap;\n",
              "      gap: 12px;\n",
              "    }\n",
              "\n",
              "    .colab-df-convert {\n",
              "      background-color: #E8F0FE;\n",
              "      border: none;\n",
              "      border-radius: 50%;\n",
              "      cursor: pointer;\n",
              "      display: none;\n",
              "      fill: #1967D2;\n",
              "      height: 32px;\n",
              "      padding: 0 0 0 0;\n",
              "      width: 32px;\n",
              "    }\n",
              "\n",
              "    .colab-df-convert:hover {\n",
              "      background-color: #E2EBFA;\n",
              "      box-shadow: 0px 1px 2px rgba(60, 64, 67, 0.3), 0px 1px 3px 1px rgba(60, 64, 67, 0.15);\n",
              "      fill: #174EA6;\n",
              "    }\n",
              "\n",
              "    [theme=dark] .colab-df-convert {\n",
              "      background-color: #3B4455;\n",
              "      fill: #D2E3FC;\n",
              "    }\n",
              "\n",
              "    [theme=dark] .colab-df-convert:hover {\n",
              "      background-color: #434B5C;\n",
              "      box-shadow: 0px 1px 3px 1px rgba(0, 0, 0, 0.15);\n",
              "      filter: drop-shadow(0px 1px 2px rgba(0, 0, 0, 0.3));\n",
              "      fill: #FFFFFF;\n",
              "    }\n",
              "  </style>\n",
              "\n",
              "      <script>\n",
              "        const buttonEl =\n",
              "          document.querySelector('#df-01203fde-d6c0-4e7c-8728-5f1b6f5642c1 button.colab-df-convert');\n",
              "        buttonEl.style.display =\n",
              "          google.colab.kernel.accessAllowed ? 'block' : 'none';\n",
              "\n",
              "        async function convertToInteractive(key) {\n",
              "          const element = document.querySelector('#df-01203fde-d6c0-4e7c-8728-5f1b6f5642c1');\n",
              "          const dataTable =\n",
              "            await google.colab.kernel.invokeFunction('convertToInteractive',\n",
              "                                                     [key], {});\n",
              "          if (!dataTable) return;\n",
              "\n",
              "          const docLinkHtml = 'Like what you see? Visit the ' +\n",
              "            '<a target=\"_blank\" href=https://colab.research.google.com/notebooks/data_table.ipynb>data table notebook</a>'\n",
              "            + ' to learn more about interactive tables.';\n",
              "          element.innerHTML = '';\n",
              "          dataTable['output_type'] = 'display_data';\n",
              "          await google.colab.output.renderOutput(dataTable, element);\n",
              "          const docLink = document.createElement('div');\n",
              "          docLink.innerHTML = docLinkHtml;\n",
              "          element.appendChild(docLink);\n",
              "        }\n",
              "      </script>\n",
              "    </div>\n",
              "  </div>\n",
              "  "
            ],
            "text/plain": [
              "   index codec_name                            codec_long_name profile  \\\n",
              "0  0      h264       H.264 / AVC / MPEG-4 AVC / MPEG-4 part 10  High     \n",
              "1  1      aac        AAC (Advanced Audio Coding)                LC       \n",
              "\n",
              "  codec_type codec_time_base codec_tag_string   codec_tag   width  height  \\\n",
              "0  video      14707/442000    avc1             0x31637661  1920.0  1072.0   \n",
              "1  audio      1/16000         mp4a             0x6134706d NaN     NaN       \n",
              "\n",
              "   ...  bits_per_raw_sample  nb_frames  \\\n",
              "0  ...  8.0                  221         \n",
              "1  ... NaN                   230         \n",
              "\n",
              "                                                                                                                                                                                                disposition  \\\n",
              "0  {'default': 1, 'dub': 0, 'original': 0, 'comment': 0, 'lyrics': 0, 'karaoke': 0, 'forced': 0, 'hearing_impaired': 0, 'visual_impaired': 0, 'clean_effects': 0, 'attached_pic': 0, 'timed_thumbnails': 0}   \n",
              "1  {'default': 1, 'dub': 0, 'original': 0, 'comment': 0, 'lyrics': 0, 'karaoke': 0, 'forced': 0, 'hearing_impaired': 0, 'visual_impaired': 0, 'clean_effects': 0, 'attached_pic': 0, 'timed_thumbnails': 0}   \n",
              "\n",
              "                                                                           tags  \\\n",
              "0  {'language': 'eng', 'handler_name': 'VideoHandler', 'encoder': 'AVC Coding'}   \n",
              "1  {'language': 'eng', 'handler_name': 'SoundHandler'}                            \n",
              "\n",
              "  sample_fmt sample_rate  channels channel_layout  bits_per_sample  \\\n",
              "0  NaN       NaN         NaN        NaN           NaN                \n",
              "1  fltp       16000.0     1.0       mono           0.0               \n",
              "\n",
              "  max_bit_rate  \n",
              "0 NaN           \n",
              "1  127313.0     \n",
              "\n",
              "[2 rows x 39 columns]"
            ]
          },
          "execution_count": null,
          "metadata": {},
          "output_type": "execute_result"
        }
      ],
      "source": [
        "df1.head(2)"
      ]
    },
    {
      "cell_type": "markdown",
      "metadata": {
        "id": "PJhsp_pHPOir"
      },
      "source": [
        "#### 3.2 Second Group of Folder"
      ]
    },
    {
      "cell_type": "code",
      "execution_count": null,
      "metadata": {
        "id": "xOiseZV8lkY_"
      },
      "outputs": [],
      "source": [
        "import os\n",
        "from glob import glob\n",
        "# Iterate over the list of filepaths & remove each file.\n",
        "\n",
        "mpg_files2 = [] \n",
        "mp4 = glob(Vid_fldr2+ '/*.mp4')\n",
        "\n",
        "for j in mp4:\n",
        "    try:\n",
        "        #os.remove(j)\n",
        "        mpg_files2.append(j)\n",
        "    except OSError:\n",
        "        print(\"Error while adding file\")"
      ]
    },
    {
      "cell_type": "code",
      "execution_count": null,
      "metadata": {
        "id": "0jV4PZMQlrct"
      },
      "outputs": [],
      "source": [
        "df_vid_list2 = pd.DataFrame(mpg_files2,columns = ['Orig_vid_loc'] )\n",
        "#print(df_vid_list2.shape)"
      ]
    },
    {
      "cell_type": "code",
      "execution_count": null,
      "metadata": {
        "colab": {
          "background_save": true
        },
        "id": "Z1XScC6QK16f",
        "outputId": "0c1142ba-1863-495d-d5ff-a5c717c3372e"
      },
      "outputs": [
        {
          "data": {
            "text/html": [
              "\n",
              "  <div id=\"df-cc739248-938f-410e-a965-9a73b150f0c2\">\n",
              "    <div class=\"colab-df-container\">\n",
              "      <div>\n",
              "<style scoped>\n",
              "    .dataframe tbody tr th:only-of-type {\n",
              "        vertical-align: middle;\n",
              "    }\n",
              "\n",
              "    .dataframe tbody tr th {\n",
              "        vertical-align: top;\n",
              "    }\n",
              "\n",
              "    .dataframe thead th {\n",
              "        text-align: right;\n",
              "    }\n",
              "</style>\n",
              "<table border=\"1\" class=\"dataframe\">\n",
              "  <thead>\n",
              "    <tr style=\"text-align: right;\">\n",
              "      <th></th>\n",
              "      <th>FileName</th>\n",
              "      <th>creation_time</th>\n",
              "      <th>Vid_lngth_sec</th>\n",
              "      <th>Vid_size_KB</th>\n",
              "      <th>Frm_Width</th>\n",
              "      <th>Frm_Height</th>\n",
              "      <th>Tot_Img_Frames</th>\n",
              "      <th>Vid_frm_rate</th>\n",
              "      <th>Aud_sample_rate</th>\n",
              "      <th>Tot_aud_Frames</th>\n",
              "      <th>Aud_Chanel</th>\n",
              "      <th>Aud_max_bit_rate</th>\n",
              "    </tr>\n",
              "  </thead>\n",
              "  <tbody>\n",
              "    <tr>\n",
              "      <th>1502</th>\n",
              "      <td>/content/drive/My Drive/thesis_work/audio/PhD_...</td>\n",
              "      <td>2020-03-06T20:25:58.000000Z</td>\n",
              "      <td>30.025</td>\n",
              "      <td>8801560</td>\n",
              "      <td>1072.0</td>\n",
              "      <td>1920.0</td>\n",
              "      <td>451</td>\n",
              "      <td>18040/1201</td>\n",
              "      <td>16000.0</td>\n",
              "      <td>470</td>\n",
              "      <td>mono</td>\n",
              "      <td>127313.0</td>\n",
              "    </tr>\n",
              "    <tr>\n",
              "      <th>1317</th>\n",
              "      <td>/content/drive/My Drive/thesis_work/audio/PhD_...</td>\n",
              "      <td>2020-02-28T13:28:34.000000Z</td>\n",
              "      <td>30.092</td>\n",
              "      <td>9071662</td>\n",
              "      <td>1072.0</td>\n",
              "      <td>1920.0</td>\n",
              "      <td>452</td>\n",
              "      <td>113000/7523</td>\n",
              "      <td>16000.0</td>\n",
              "      <td>472</td>\n",
              "      <td>mono</td>\n",
              "      <td>127313.0</td>\n",
              "    </tr>\n",
              "  </tbody>\n",
              "</table>\n",
              "</div>\n",
              "      <button class=\"colab-df-convert\" onclick=\"convertToInteractive('df-cc739248-938f-410e-a965-9a73b150f0c2')\"\n",
              "              title=\"Convert this dataframe to an interactive table.\"\n",
              "              style=\"display:none;\">\n",
              "        \n",
              "  <svg xmlns=\"http://www.w3.org/2000/svg\" height=\"24px\"viewBox=\"0 0 24 24\"\n",
              "       width=\"24px\">\n",
              "    <path d=\"M0 0h24v24H0V0z\" fill=\"none\"/>\n",
              "    <path d=\"M18.56 5.44l.94 2.06.94-2.06 2.06-.94-2.06-.94-.94-2.06-.94 2.06-2.06.94zm-11 1L8.5 8.5l.94-2.06 2.06-.94-2.06-.94L8.5 2.5l-.94 2.06-2.06.94zm10 10l.94 2.06.94-2.06 2.06-.94-2.06-.94-.94-2.06-.94 2.06-2.06.94z\"/><path d=\"M17.41 7.96l-1.37-1.37c-.4-.4-.92-.59-1.43-.59-.52 0-1.04.2-1.43.59L10.3 9.45l-7.72 7.72c-.78.78-.78 2.05 0 2.83L4 21.41c.39.39.9.59 1.41.59.51 0 1.02-.2 1.41-.59l7.78-7.78 2.81-2.81c.8-.78.8-2.07 0-2.86zM5.41 20L4 18.59l7.72-7.72 1.47 1.35L5.41 20z\"/>\n",
              "  </svg>\n",
              "      </button>\n",
              "      \n",
              "  <style>\n",
              "    .colab-df-container {\n",
              "      display:flex;\n",
              "      flex-wrap:wrap;\n",
              "      gap: 12px;\n",
              "    }\n",
              "\n",
              "    .colab-df-convert {\n",
              "      background-color: #E8F0FE;\n",
              "      border: none;\n",
              "      border-radius: 50%;\n",
              "      cursor: pointer;\n",
              "      display: none;\n",
              "      fill: #1967D2;\n",
              "      height: 32px;\n",
              "      padding: 0 0 0 0;\n",
              "      width: 32px;\n",
              "    }\n",
              "\n",
              "    .colab-df-convert:hover {\n",
              "      background-color: #E2EBFA;\n",
              "      box-shadow: 0px 1px 2px rgba(60, 64, 67, 0.3), 0px 1px 3px 1px rgba(60, 64, 67, 0.15);\n",
              "      fill: #174EA6;\n",
              "    }\n",
              "\n",
              "    [theme=dark] .colab-df-convert {\n",
              "      background-color: #3B4455;\n",
              "      fill: #D2E3FC;\n",
              "    }\n",
              "\n",
              "    [theme=dark] .colab-df-convert:hover {\n",
              "      background-color: #434B5C;\n",
              "      box-shadow: 0px 1px 3px 1px rgba(0, 0, 0, 0.15);\n",
              "      filter: drop-shadow(0px 1px 2px rgba(0, 0, 0, 0.3));\n",
              "      fill: #FFFFFF;\n",
              "    }\n",
              "  </style>\n",
              "\n",
              "      <script>\n",
              "        const buttonEl =\n",
              "          document.querySelector('#df-cc739248-938f-410e-a965-9a73b150f0c2 button.colab-df-convert');\n",
              "        buttonEl.style.display =\n",
              "          google.colab.kernel.accessAllowed ? 'block' : 'none';\n",
              "\n",
              "        async function convertToInteractive(key) {\n",
              "          const element = document.querySelector('#df-cc739248-938f-410e-a965-9a73b150f0c2');\n",
              "          const dataTable =\n",
              "            await google.colab.kernel.invokeFunction('convertToInteractive',\n",
              "                                                     [key], {});\n",
              "          if (!dataTable) return;\n",
              "\n",
              "          const docLinkHtml = 'Like what you see? Visit the ' +\n",
              "            '<a target=\"_blank\" href=https://colab.research.google.com/notebooks/data_table.ipynb>data table notebook</a>'\n",
              "            + ' to learn more about interactive tables.';\n",
              "          element.innerHTML = '';\n",
              "          dataTable['output_type'] = 'display_data';\n",
              "          await google.colab.output.renderOutput(dataTable, element);\n",
              "          const docLink = document.createElement('div');\n",
              "          docLink.innerHTML = docLinkHtml;\n",
              "          element.appendChild(docLink);\n",
              "        }\n",
              "      </script>\n",
              "    </div>\n",
              "  </div>\n",
              "  "
            ],
            "text/plain": [
              "                                               FileName  \\\n",
              "1502  /content/drive/My Drive/thesis_work/audio/PhD_...   \n",
              "1317  /content/drive/My Drive/thesis_work/audio/PhD_...   \n",
              "\n",
              "                    creation_time  Vid_lngth_sec  Vid_size_KB  Frm_Width  \\\n",
              "1502  2020-03-06T20:25:58.000000Z         30.025      8801560     1072.0   \n",
              "1317  2020-02-28T13:28:34.000000Z         30.092      9071662     1072.0   \n",
              "\n",
              "      Frm_Height  Tot_Img_Frames Vid_frm_rate  Aud_sample_rate  \\\n",
              "1502      1920.0             451   18040/1201          16000.0   \n",
              "1317      1920.0             452  113000/7523          16000.0   \n",
              "\n",
              "      Tot_aud_Frames Aud_Chanel  Aud_max_bit_rate  \n",
              "1502             470       mono          127313.0  \n",
              "1317             472       mono          127313.0  "
            ]
          },
          "execution_count": null,
          "metadata": {},
          "output_type": "execute_result"
        }
      ],
      "source": [
        "Final_df2 = pd.DataFrame()\n",
        "\n",
        "\n",
        "#for row in df_vid_list2.head(5).itertuples():\n",
        "for row in df_vid_list2.itertuples():\n",
        "  vid= row.Orig_vid_loc\n",
        "  #print(vid)\n",
        "  vid_Json1 = (ffmpeg.probe(vid)[\"format\"])\n",
        "  vid_Json2 = (ffmpeg.probe(vid)[\"streams\"])\n",
        "  with open('data.json', 'w') as f:\n",
        "      json.dump(vid_Json1, f)\n",
        "\n",
        "  with open('data1.json', 'w') as f:\n",
        "      json.dump(vid_Json2, f)    \n",
        "\n",
        "  df = pd.read_json('data.json')\n",
        "  df1 = pd.read_json('data1.json')\n",
        "  df_video = df1.loc[df1['codec_type'] == 'video']\n",
        "  df_audio = df1.loc[df1['codec_type'] == 'audio']\n",
        "  df= df[['filename','tags','duration','size']]\n",
        "  df_video = df_video[['width','height','nb_frames','duration_ts','duration','avg_frame_rate']]\n",
        "  df_audio = df_audio[['sample_rate','channels','nb_frames','channel_layout','max_bit_rate']]\n",
        "  #df1= df1[['nb_frames','width','height']]\n",
        "  #df= df[['filename','tags','duration','size']]\n",
        "  time= df.iloc[1,1]\n",
        "  fname= df.iloc[0,0]\n",
        "  durn = df_video.iloc[0,4]\n",
        "  vid_frm_rt=df_video.iloc[0,5]\n",
        "  #vid_frm_ttl=df_video.iloc[0,3]\n",
        "  size = df.iloc[0,3]\n",
        "  wdth= df_video.iloc[0,1]\n",
        "  hgth = df_video.iloc[0,0]\n",
        "  vid_frames = df_video.iloc[0,2]\n",
        "  aud_smpl_rt = df_audio.iloc[0,0]\n",
        "  aud_frames = df_audio.iloc[0,2]\n",
        "  aud_chnl = df_audio.iloc[0,3]\n",
        "  aud_max_bit_rate = df_audio.iloc[0,4]\n",
        "  #print(wdth)\n",
        "  #print(hgth)\n",
        "  #video_meta_df2 =video_meta_df1\n",
        "  video_meta_df2 = pd.DataFrame([[fname,time,durn,size,wdth,hgth,vid_frames,vid_frm_rt,aud_smpl_rt,aud_frames,aud_chnl,aud_max_bit_rate]]\n",
        "                                ,columns=['FileName','creation_time','Vid_lngth_sec','Vid_size_KB','Frm_Width','Frm_Height','Tot_Img_Frames',\n",
        "                                          'Vid_frm_rate','Aud_sample_rate','Tot_aud_Frames','Aud_Chanel','Aud_max_bit_rate'])\n",
        "  Final_df2 = pd.concat([Final_df2,video_meta_df2], ignore_index=True)\n",
        "\n",
        "#Final_df2 =Final_df2[['FileName','creation_time']]\n",
        "#Final_df2 =Final_df2[['FileName','creation_time']]\n",
        "Final_df2=Final_df2.drop_duplicates()\n",
        "Final_df2.to_csv('Final_df2a_'+today_dt+'.csv',index=False)\n",
        "Final_df2.sample(2)\n"
      ]
    },
    {
      "cell_type": "code",
      "execution_count": null,
      "metadata": {
        "colab": {
          "background_save": true
        },
        "id": "i0osyy-yKyuo"
      },
      "outputs": [],
      "source": [
        "#df1= pd.read_csv('Final_df22 02 2030811.csv')\n",
        "#df2= pd.read_csv('Final_df22022030811.csv')"
      ]
    },
    {
      "cell_type": "code",
      "execution_count": null,
      "metadata": {
        "colab": {
          "background_save": true
        },
        "id": "9z8ec9pGfbrK"
      },
      "outputs": [],
      "source": [
        "#df2.head(2)"
      ]
    },
    {
      "cell_type": "markdown",
      "metadata": {
        "id": "YcroBqp4PU5j"
      },
      "source": [
        "#### 3.3 Third Group of Folder"
      ]
    },
    {
      "cell_type": "code",
      "execution_count": null,
      "metadata": {
        "colab": {
          "background_save": true
        },
        "id": "1p6ct-BSl2so"
      },
      "outputs": [],
      "source": [
        "import os\n",
        "from glob import glob\n",
        "# Iterate over the list of filepaths & remove each file.\n",
        "\n",
        "mpg_files3 = [] \n",
        "mp4 = glob(Vid_fldr3+ '/*.mp4')\n",
        "\n",
        "for j in mp4:\n",
        "    try:\n",
        "        #os.remove(j)\n",
        "        mpg_files3.append(j)\n",
        "    except OSError:\n",
        "        print(\"Error while adding file\")"
      ]
    },
    {
      "cell_type": "code",
      "execution_count": null,
      "metadata": {
        "colab": {
          "background_save": true
        },
        "id": "YjVSlyNOOe89",
        "outputId": "9e5c17f6-582c-4a9d-c70a-289d19e608f9"
      },
      "outputs": [
        {
          "name": "stdout",
          "output_type": "stream",
          "text": [
            "(193, 1)\n"
          ]
        }
      ],
      "source": [
        "df_vid_list3 = pd.DataFrame(mpg_files3,columns = ['Orig_vid_loc'] )\n",
        "print(df_vid_list3.shape)"
      ]
    },
    {
      "cell_type": "markdown",
      "metadata": {
        "id": "Jj1-MGuTOb7A"
      },
      "source": [
        ""
      ]
    },
    {
      "cell_type": "code",
      "execution_count": null,
      "metadata": {
        "colab": {
          "background_save": true
        },
        "id": "YSgy-ci3OONl",
        "outputId": "83e752f6-7f8f-444a-b418-06b4b436e183"
      },
      "outputs": [
        {
          "data": {
            "text/html": [
              "\n",
              "  <div id=\"df-9b040396-a4e1-4dda-b0bf-70d402e917a5\">\n",
              "    <div class=\"colab-df-container\">\n",
              "      <div>\n",
              "<style scoped>\n",
              "    .dataframe tbody tr th:only-of-type {\n",
              "        vertical-align: middle;\n",
              "    }\n",
              "\n",
              "    .dataframe tbody tr th {\n",
              "        vertical-align: top;\n",
              "    }\n",
              "\n",
              "    .dataframe thead th {\n",
              "        text-align: right;\n",
              "    }\n",
              "</style>\n",
              "<table border=\"1\" class=\"dataframe\">\n",
              "  <thead>\n",
              "    <tr style=\"text-align: right;\">\n",
              "      <th></th>\n",
              "      <th>FileName</th>\n",
              "      <th>creation_time</th>\n",
              "      <th>Vid_lngth_sec</th>\n",
              "      <th>Vid_size_KB</th>\n",
              "      <th>Frm_Width</th>\n",
              "      <th>Frm_Height</th>\n",
              "      <th>Tot_Img_Frames</th>\n",
              "      <th>Vid_frm_rate</th>\n",
              "      <th>Aud_sample_rate</th>\n",
              "      <th>Tot_aud_Frames</th>\n",
              "      <th>Aud_Chanel</th>\n",
              "      <th>Aud_max_bit_rate</th>\n",
              "    </tr>\n",
              "  </thead>\n",
              "  <tbody>\n",
              "    <tr>\n",
              "      <th>105</th>\n",
              "      <td>/content/drive/My Drive/thesis_work/audio/PhD_...</td>\n",
              "      <td>2020-12-04T14:34:21.000000Z</td>\n",
              "      <td>18.244</td>\n",
              "      <td>2297926</td>\n",
              "      <td>352.0</td>\n",
              "      <td>640.0</td>\n",
              "      <td>92</td>\n",
              "      <td>23000/4561</td>\n",
              "      <td>16000.0</td>\n",
              "      <td>285</td>\n",
              "      <td>mono</td>\n",
              "      <td>127313.0</td>\n",
              "    </tr>\n",
              "    <tr>\n",
              "      <th>147</th>\n",
              "      <td>/content/drive/My Drive/thesis_work/audio/PhD_...</td>\n",
              "      <td>2020-11-11T21:59:27.000000Z</td>\n",
              "      <td>6.032</td>\n",
              "      <td>2050323</td>\n",
              "      <td>352.0</td>\n",
              "      <td>640.0</td>\n",
              "      <td>31</td>\n",
              "      <td>3875/754</td>\n",
              "      <td>16000.0</td>\n",
              "      <td>94</td>\n",
              "      <td>mono</td>\n",
              "      <td>127313.0</td>\n",
              "    </tr>\n",
              "  </tbody>\n",
              "</table>\n",
              "</div>\n",
              "      <button class=\"colab-df-convert\" onclick=\"convertToInteractive('df-9b040396-a4e1-4dda-b0bf-70d402e917a5')\"\n",
              "              title=\"Convert this dataframe to an interactive table.\"\n",
              "              style=\"display:none;\">\n",
              "        \n",
              "  <svg xmlns=\"http://www.w3.org/2000/svg\" height=\"24px\"viewBox=\"0 0 24 24\"\n",
              "       width=\"24px\">\n",
              "    <path d=\"M0 0h24v24H0V0z\" fill=\"none\"/>\n",
              "    <path d=\"M18.56 5.44l.94 2.06.94-2.06 2.06-.94-2.06-.94-.94-2.06-.94 2.06-2.06.94zm-11 1L8.5 8.5l.94-2.06 2.06-.94-2.06-.94L8.5 2.5l-.94 2.06-2.06.94zm10 10l.94 2.06.94-2.06 2.06-.94-2.06-.94-.94-2.06-.94 2.06-2.06.94z\"/><path d=\"M17.41 7.96l-1.37-1.37c-.4-.4-.92-.59-1.43-.59-.52 0-1.04.2-1.43.59L10.3 9.45l-7.72 7.72c-.78.78-.78 2.05 0 2.83L4 21.41c.39.39.9.59 1.41.59.51 0 1.02-.2 1.41-.59l7.78-7.78 2.81-2.81c.8-.78.8-2.07 0-2.86zM5.41 20L4 18.59l7.72-7.72 1.47 1.35L5.41 20z\"/>\n",
              "  </svg>\n",
              "      </button>\n",
              "      \n",
              "  <style>\n",
              "    .colab-df-container {\n",
              "      display:flex;\n",
              "      flex-wrap:wrap;\n",
              "      gap: 12px;\n",
              "    }\n",
              "\n",
              "    .colab-df-convert {\n",
              "      background-color: #E8F0FE;\n",
              "      border: none;\n",
              "      border-radius: 50%;\n",
              "      cursor: pointer;\n",
              "      display: none;\n",
              "      fill: #1967D2;\n",
              "      height: 32px;\n",
              "      padding: 0 0 0 0;\n",
              "      width: 32px;\n",
              "    }\n",
              "\n",
              "    .colab-df-convert:hover {\n",
              "      background-color: #E2EBFA;\n",
              "      box-shadow: 0px 1px 2px rgba(60, 64, 67, 0.3), 0px 1px 3px 1px rgba(60, 64, 67, 0.15);\n",
              "      fill: #174EA6;\n",
              "    }\n",
              "\n",
              "    [theme=dark] .colab-df-convert {\n",
              "      background-color: #3B4455;\n",
              "      fill: #D2E3FC;\n",
              "    }\n",
              "\n",
              "    [theme=dark] .colab-df-convert:hover {\n",
              "      background-color: #434B5C;\n",
              "      box-shadow: 0px 1px 3px 1px rgba(0, 0, 0, 0.15);\n",
              "      filter: drop-shadow(0px 1px 2px rgba(0, 0, 0, 0.3));\n",
              "      fill: #FFFFFF;\n",
              "    }\n",
              "  </style>\n",
              "\n",
              "      <script>\n",
              "        const buttonEl =\n",
              "          document.querySelector('#df-9b040396-a4e1-4dda-b0bf-70d402e917a5 button.colab-df-convert');\n",
              "        buttonEl.style.display =\n",
              "          google.colab.kernel.accessAllowed ? 'block' : 'none';\n",
              "\n",
              "        async function convertToInteractive(key) {\n",
              "          const element = document.querySelector('#df-9b040396-a4e1-4dda-b0bf-70d402e917a5');\n",
              "          const dataTable =\n",
              "            await google.colab.kernel.invokeFunction('convertToInteractive',\n",
              "                                                     [key], {});\n",
              "          if (!dataTable) return;\n",
              "\n",
              "          const docLinkHtml = 'Like what you see? Visit the ' +\n",
              "            '<a target=\"_blank\" href=https://colab.research.google.com/notebooks/data_table.ipynb>data table notebook</a>'\n",
              "            + ' to learn more about interactive tables.';\n",
              "          element.innerHTML = '';\n",
              "          dataTable['output_type'] = 'display_data';\n",
              "          await google.colab.output.renderOutput(dataTable, element);\n",
              "          const docLink = document.createElement('div');\n",
              "          docLink.innerHTML = docLinkHtml;\n",
              "          element.appendChild(docLink);\n",
              "        }\n",
              "      </script>\n",
              "    </div>\n",
              "  </div>\n",
              "  "
            ],
            "text/plain": [
              "                                              FileName  \\\n",
              "105  /content/drive/My Drive/thesis_work/audio/PhD_...   \n",
              "147  /content/drive/My Drive/thesis_work/audio/PhD_...   \n",
              "\n",
              "                   creation_time  Vid_lngth_sec  Vid_size_KB  Frm_Width  \\\n",
              "105  2020-12-04T14:34:21.000000Z         18.244      2297926      352.0   \n",
              "147  2020-11-11T21:59:27.000000Z          6.032      2050323      352.0   \n",
              "\n",
              "     Frm_Height  Tot_Img_Frames Vid_frm_rate  Aud_sample_rate  Tot_aud_Frames  \\\n",
              "105       640.0              92   23000/4561          16000.0             285   \n",
              "147       640.0              31     3875/754          16000.0              94   \n",
              "\n",
              "    Aud_Chanel  Aud_max_bit_rate  \n",
              "105       mono          127313.0  \n",
              "147       mono          127313.0  "
            ]
          },
          "execution_count": null,
          "metadata": {},
          "output_type": "execute_result"
        }
      ],
      "source": [
        "Final_df3 = pd.DataFrame()\n",
        "\n",
        "\n",
        "#for row in df_vid_list2.head(5).itertuples():\n",
        "for row in df_vid_list3.itertuples():\n",
        "  vid= row.Orig_vid_loc\n",
        "  #print(vid)\n",
        "  vid_Json1 = (ffmpeg.probe(vid)[\"format\"])\n",
        "  vid_Json2 = (ffmpeg.probe(vid)[\"streams\"])\n",
        "  with open('data.json', 'w') as f:\n",
        "      json.dump(vid_Json1, f)\n",
        "\n",
        "  with open('data1.json', 'w') as f:\n",
        "      json.dump(vid_Json2, f)    \n",
        "\n",
        "  df = pd.read_json('data.json')\n",
        "  df1 = pd.read_json('data1.json')\n",
        "  df_video = df1.loc[df1['codec_type'] == 'video']\n",
        "  df_audio = df1.loc[df1['codec_type'] == 'audio']\n",
        "  df= df[['filename','tags','duration','size']]\n",
        "  df_video = df_video[['width','height','nb_frames','duration_ts','duration','avg_frame_rate']]\n",
        "  df_audio = df_audio[['sample_rate','channels','nb_frames','channel_layout','max_bit_rate']]\n",
        "  #df1= df1[['nb_frames','width','height']]\n",
        "  #df= df[['filename','tags','duration','size']]\n",
        "  time= df.iloc[1,1]\n",
        "  fname= df.iloc[0,0]\n",
        "  durn = df_video.iloc[0,4]\n",
        "  vid_frm_rt=df_video.iloc[0,5]\n",
        "  #vid_frm_ttl=df_video.iloc[0,3]\n",
        "  size = df.iloc[0,3]\n",
        "  wdth= df_video.iloc[0,1]\n",
        "  hgth = df_video.iloc[0,0]\n",
        "  vid_frames = df_video.iloc[0,2]\n",
        "  aud_smpl_rt = df_audio.iloc[0,0]\n",
        "  aud_frames = df_audio.iloc[0,2]\n",
        "  aud_chnl = df_audio.iloc[0,3]\n",
        "  aud_max_bit_rate = df_audio.iloc[0,4]\n",
        "  #print(wdth)\n",
        "  #print(hgth)\n",
        "  #video_meta_df2 =video_meta_df1\n",
        "  video_meta_df2 = pd.DataFrame([[fname,time,durn,size,wdth,hgth,vid_frames,vid_frm_rt,aud_smpl_rt,aud_frames,aud_chnl,aud_max_bit_rate]]\n",
        "                                ,columns=['FileName','creation_time','Vid_lngth_sec','Vid_size_KB','Frm_Width','Frm_Height','Tot_Img_Frames',\n",
        "                                          'Vid_frm_rate','Aud_sample_rate','Tot_aud_Frames','Aud_Chanel','Aud_max_bit_rate'])\n",
        "  Final_df3 = pd.concat([Final_df3,video_meta_df2], ignore_index=True)\n",
        "\n",
        "#Final_df2 =Final_df2[['FileName','creation_time']]\n",
        "#Final_df2 =Final_df2[['FileName','creation_time']]\n",
        "Final_df3=Final_df3.drop_duplicates()\n",
        "Final_df3.to_csv('Final_df3a_'+today_dt+'.csv',index=False)\n",
        "Final_df3.sample(2)"
      ]
    },
    {
      "cell_type": "code",
      "execution_count": null,
      "metadata": {
        "colab": {
          "background_save": true
        },
        "id": "cQpF3s17lx9R"
      },
      "outputs": [],
      "source": [
        "#print(Final_df3.shape)"
      ]
    },
    {
      "cell_type": "code",
      "execution_count": null,
      "metadata": {
        "colab": {
          "background_save": true
        },
        "id": "p4822ckVUGT_"
      },
      "outputs": [],
      "source": [
        "#df3 = pd.read_csv('Final_df32022030811.csv')"
      ]
    },
    {
      "cell_type": "code",
      "execution_count": null,
      "metadata": {
        "colab": {
          "background_save": true
        },
        "id": "p9tbjuogXyLz"
      },
      "outputs": [],
      "source": [
        "#df3.head(2)"
      ]
    },
    {
      "cell_type": "markdown",
      "metadata": {
        "id": "mhY4bTwnX08N"
      },
      "source": [
        "#### 3.4 Fourth Group of Data"
      ]
    },
    {
      "cell_type": "code",
      "execution_count": null,
      "metadata": {
        "colab": {
          "background_save": true
        },
        "id": "vcYo25EiYVAM"
      },
      "outputs": [],
      "source": [
        "import os\n",
        "from glob import glob\n",
        "# Iterate over the list of filepaths & remove each file.\n",
        "\n",
        "mpg4_files = [] \n",
        "mp4 = glob(Vid_fldr4+ '/*.mp4')\n",
        "\n",
        "for j in mp4:\n",
        "    try:\n",
        "        #os.remove(j)\n",
        "        mpg4_files.append(j)\n",
        "    except OSError:\n",
        "        print(\"Error while adding file\")"
      ]
    },
    {
      "cell_type": "code",
      "execution_count": null,
      "metadata": {
        "colab": {
          "background_save": true
        },
        "id": "ES09kgSEYhhf",
        "outputId": "d6f48028-896e-4fa1-d412-5844577aab83"
      },
      "outputs": [
        {
          "name": "stdout",
          "output_type": "stream",
          "text": [
            "(1251, 1)\n"
          ]
        }
      ],
      "source": [
        "df_vid_list4 = pd.DataFrame(mpg4_files,columns = ['Orig_vid_loc'] )\n",
        "print(df_vid_list4.shape)"
      ]
    },
    {
      "cell_type": "code",
      "execution_count": null,
      "metadata": {
        "colab": {
          "background_save": true
        },
        "id": "zrAyBfJYbzls"
      },
      "outputs": [],
      "source": [
        ""
      ]
    },
    {
      "cell_type": "code",
      "execution_count": null,
      "metadata": {
        "id": "zSLc7gfcY3pi"
      },
      "outputs": [],
      "source": [
        "Final_df4 = pd.DataFrame()\n",
        "\n",
        "\n",
        "#for row in df_vid_list2.head(5).itertuples():\n",
        "for row in df_vid_list3.itertuples():\n",
        "  vid= row.Orig_vid_loc\n",
        "  #print(vid)\n",
        "  vid_Json1 = (ffmpeg.probe(vid)[\"format\"])\n",
        "  vid_Json2 = (ffmpeg.probe(vid)[\"streams\"])\n",
        "  with open('data.json', 'w') as f:\n",
        "      json.dump(vid_Json1, f)\n",
        "\n",
        "  with open('data1.json', 'w') as f:\n",
        "      json.dump(vid_Json2, f)    \n",
        "\n",
        "  df = pd.read_json('data.json')\n",
        "  df1 = pd.read_json('data1.json')\n",
        "  df_video = df1.loc[df1['codec_type'] == 'video']\n",
        "  df_audio = df1.loc[df1['codec_type'] == 'audio']\n",
        "  df= df[['filename','tags','duration','size']]\n",
        "  df_video = df_video[['width','height','nb_frames','duration_ts','duration','avg_frame_rate']]\n",
        "  df_audio = df_audio[['sample_rate','channels','nb_frames','channel_layout','max_bit_rate']]\n",
        "  #df1= df1[['nb_frames','width','height']]\n",
        "  #df= df[['filename','tags','duration','size']]\n",
        "  time= df.iloc[1,1]\n",
        "  fname= df.iloc[0,0]\n",
        "  durn = df_video.iloc[0,4]\n",
        "  vid_frm_rt=df_video.iloc[0,5]\n",
        "  #vid_frm_ttl=df_video.iloc[0,3]\n",
        "  size = df.iloc[0,3]\n",
        "  wdth= df_video.iloc[0,1]\n",
        "  hgth = df_video.iloc[0,0]\n",
        "  vid_frames = df_video.iloc[0,2]\n",
        "  aud_smpl_rt = df_audio.iloc[0,0]\n",
        "  aud_frames = df_audio.iloc[0,2]\n",
        "  aud_chnl = df_audio.iloc[0,3]\n",
        "  aud_max_bit_rate = df_audio.iloc[0,4]\n",
        "  #print(wdth)\n",
        "  #print(hgth)\n",
        "  #video_meta_df2 =video_meta_df1\n",
        "  video_meta_df2 = pd.DataFrame([[fname,time,durn,size,wdth,hgth,vid_frames,vid_frm_rt,aud_smpl_rt,aud_frames,aud_chnl,aud_max_bit_rate]]\n",
        "                                ,columns=['FileName','creation_time','Vid_lngth_sec','Vid_size_KB','Frm_Width','Frm_Height','Tot_Img_Frames',\n",
        "                                          'Vid_frm_rate','Aud_sample_rate','Tot_aud_Frames','Aud_Chanel','Aud_max_bit_rate'])\n",
        "  Final_df4 = pd.concat([Final_df4,video_meta_df2], ignore_index=True)\n",
        "\n",
        "#Final_df2 =Final_df2[['FileName','creation_time']]\n",
        "#Final_df2 =Final_df2[['FileName','creation_time']]\n",
        "Final_df4=Final_df4.drop_duplicates()\n",
        "Final_df4.to_csv('Final_df4a_'+today_dt+'.csv',index=False)\n",
        "Final_df4.sample(2)"
      ]
    },
    {
      "cell_type": "code",
      "execution_count": null,
      "metadata": {
        "id": "qknga8VvbtHr"
      },
      "outputs": [],
      "source": [
        "#df4 = pd.read_csv('Final_df4_2022030910.csv')"
      ]
    },
    {
      "cell_type": "code",
      "execution_count": null,
      "metadata": {
        "id": "auotguNEb0mL"
      },
      "outputs": [],
      "source": [
        "#df4.head(3)"
      ]
    },
    {
      "cell_type": "markdown",
      "metadata": {
        "id": "bVDYO0LksZB5"
      },
      "source": [
        "### 4. Annotate all Videos with 5 Minute TimeStamps"
      ]
    },
    {
      "cell_type": "code",
      "execution_count": null,
      "metadata": {
        "id": "QsCcx0y9ZrqV"
      },
      "outputs": [],
      "source": [
        "Final_df = pd.concat([Final_df1,Final_df2,Final_df3,Final_df4], ignore_index=True)"
      ]
    },
    {
      "cell_type": "code",
      "execution_count": null,
      "metadata": {
        "id": "UGRnM9sqb5vq"
      },
      "outputs": [],
      "source": [
        "All_video_df.shape"
      ]
    },
    {
      "cell_type": "code",
      "execution_count": null,
      "metadata": {
        "id": "cYQY_dBuPKQg"
      },
      "outputs": [],
      "source": [
        "#Final_df =All_video_df[['FileName','creation_time']]"
      ]
    },
    {
      "cell_type": "code",
      "execution_count": null,
      "metadata": {
        "id": "8zUX4TPExEys"
      },
      "outputs": [],
      "source": [
        "#Final_df = All_video_df"
      ]
    },
    {
      "cell_type": "code",
      "execution_count": null,
      "metadata": {
        "id": "1JwBLdNYNqDR"
      },
      "outputs": [],
      "source": [
        "#Final_df1 =Final_df1[['FileName','creation_time']]\n",
        "Final_df=Final_df.drop_duplicates()\n",
        "Final_df.to_csv('Final_dfa_'+today_dt+'.csv',index=False)"
      ]
    },
    {
      "cell_type": "code",
      "execution_count": null,
      "metadata": {
        "id": "RAHmkACNQdPd"
      },
      "outputs": [],
      "source": [
        "#Final_df=Final_df.drop_duplicates()"
      ]
    },
    {
      "cell_type": "code",
      "execution_count": null,
      "metadata": {
        "id": "Xcg5gWEmTsNY"
      },
      "outputs": [],
      "source": [
        "#Final_df.head(2)"
      ]
    },
    {
      "cell_type": "code",
      "execution_count": null,
      "metadata": {
        "id": "BBlmDrmCe93j"
      },
      "outputs": [],
      "source": [
        "vid_strftime = \"%Y-%m-%dT%H:%M\""
      ]
    },
    {
      "cell_type": "code",
      "execution_count": null,
      "metadata": {
        "id": "sY8Q3uRUeBPk"
      },
      "outputs": [],
      "source": [
        "vid_strftime = \"%Y-%m-%dT%H:%M\"\n",
        "Final_df['Date']=Final_df['creation_time'].str[:-11]\n",
        "Final_df['Date'] = pd.to_datetime(Final_df['Date'],format=vid_strftime)\n",
        "Final_df['Date']=Final_df['Date'].dt.tz_localize('utc').dt.tz_convert('US/Eastern')\n",
        "Final_df['Date'] = pd.to_datetime(Final_df['Date'].dt.tz_localize(None))\n",
        "#Final_df['Date'] = Final_df['Date'].dt.tz_localize(None)"
      ]
    },
    {
      "cell_type": "code",
      "execution_count": null,
      "metadata": {
        "id": "mNHMEjvrgX8F"
      },
      "outputs": [],
      "source": [
        "#Final_df.tail(2)"
      ]
    },
    {
      "cell_type": "code",
      "execution_count": null,
      "metadata": {
        "id": "PyMuKzUKqWts"
      },
      "outputs": [],
      "source": [
        "#sample_mp4 = '/content/drive/My Drive/thesis_work/FlBot_Video_112721_021822/Rec_20220218_211712_151_M.mp4'"
      ]
    },
    {
      "cell_type": "code",
      "execution_count": null,
      "metadata": {
        "id": "oJ7SqXw2pzES"
      },
      "outputs": [],
      "source": [
        "#from IPython.display import HTML\n",
        "#from base64 import b64encode\n",
        "#mp4 = open(sample_mp4,'rb').read()\n",
        "#data_url = \"data:video/mp4;base64,\" + b64encode(mp4).decode()\n",
        "#HTML(\"\"\"\n",
        "#<video width=600 controls>\n",
        "#      <source src=\"%s\" type=\"video/mp4\">\n",
        "#</video>\n",
        "#\"\"\" % data_url)"
      ]
    },
    {
      "cell_type": "code",
      "execution_count": null,
      "metadata": {
        "id": "9n3YxPggb4P-"
      },
      "outputs": [],
      "source": [
        "Final_df['fivemin_ts'] =Final_df['Date'].dt.round('5min')\n",
        "Final_df['fivemin_ts']=Final_df['fivemin_ts'].apply(lambda x: str(x))\n",
        "Final_df['fivemin_ts'] =Final_df['fivemin_ts'].str[:16]"
      ]
    },
    {
      "cell_type": "code",
      "execution_count": null,
      "metadata": {
        "id": "VrieuD9tb_sT"
      },
      "outputs": [],
      "source": [
        "#Final_df.head()"
      ]
    },
    {
      "cell_type": "code",
      "execution_count": null,
      "metadata": {
        "id": "N47sE3rgclE7"
      },
      "outputs": [],
      "source": [
        "df_fv_min = Final_df.groupby('fivemin_ts').apply(lambda x: x['FileName'].unique())\n",
        "df_fv_min = df_fv_min.apply(pd.Series)\n",
        "df_fv_min['fivemin_ts'] = df_fv_min.index\n",
        "df_fv_min.reset_index(drop=True, inplace=True)\n",
        "df_fv_min[\"time_id\"] = df_fv_min.index + 1\n",
        "df_vid_list = df_fv_min[['time_id','fivemin_ts',0]]\n",
        "df_all_fv_min = df_fv_min[['time_id','fivemin_ts',0, 1, 2, 3, 4, 5]]\n",
        "df_all_fv_min.to_csv('all_vid_fv_min_'+today_dt+'.csv',index=False)"
      ]
    },
    {
      "cell_type": "code",
      "execution_count": null,
      "metadata": {
        "id": "cvvE41GXdLEN"
      },
      "outputs": [],
      "source": [
        "df_all_fv_min.to_csv('all_vid_fv_min_'+today_dt+'.csv',index=False)"
      ]
    },
    {
      "cell_type": "code",
      "execution_count": null,
      "metadata": {
        "id": "nu-XZ0lLdOt0"
      },
      "outputs": [],
      "source": [
        "#df_all_fv_min.head(2)"
      ]
    },
    {
      "cell_type": "code",
      "execution_count": null,
      "metadata": {
        "id": "8SuEjc_FxnQu"
      },
      "outputs": [],
      "source": [
        "df_vid_list = df_vid_list.rename(columns={0: \"Fv_min_src_Video\"})"
      ]
    },
    {
      "cell_type": "code",
      "execution_count": null,
      "metadata": {
        "id": "NsYsmiWQd6Mf"
      },
      "outputs": [],
      "source": [
        "#Final_df.head(2)"
      ]
    },
    {
      "cell_type": "code",
      "execution_count": null,
      "metadata": {
        "id": "KfUj7fByeCod"
      },
      "outputs": [],
      "source": [
        "df_final_vid_lst = pd.merge(Final_df, df_vid_list, how='inner', left_on = 'FileName', right_on = 'Fv_min_src_Video')"
      ]
    },
    {
      "cell_type": "code",
      "execution_count": null,
      "metadata": {
        "id": "vo344QJBeKte"
      },
      "outputs": [],
      "source": [
        "#df_final_vid_lst.head()"
      ]
    },
    {
      "cell_type": "code",
      "execution_count": null,
      "metadata": {
        "id": "o44aDV1feW6-"
      },
      "outputs": [],
      "source": [
        "df_final_vid_lst = df_final_vid_lst[['time_id', 'FileName', 'creation_time', 'Date', 'fivemin_ts_x' ]]\n",
        "df_final_vid_lst = df_final_vid_lst.rename(columns={'fivemin_ts_x': \"Fivemin_Time\",'Date':'Orig_Video_Date','creation_time':'UTC_creation_time'})\n",
        "df_final_vid_lst.to_csv('final_vid_lst_'+today_dt+'.csv',index=False)"
      ]
    },
    {
      "cell_type": "code",
      "execution_count": null,
      "metadata": {
        "id": "Ji9npGeckaRs"
      },
      "outputs": [],
      "source": [
        "#df_final_vid_lst.head(2)"
      ]
    },
    {
      "cell_type": "code",
      "execution_count": null,
      "metadata": {
        "id": "F23GWAWmiuoW"
      },
      "outputs": [],
      "source": [
        "#df_final_vid_lst.sort_values(by=['time_id']).head(2)\n"
      ]
    },
    {
      "cell_type": "code",
      "execution_count": null,
      "metadata": {
        "id": "K8KbEKtVqUYk"
      },
      "outputs": [],
      "source": [
        "#df_final_vid_lst.sort_values(by=['time_id']).tail(5)"
      ]
    },
    {
      "cell_type": "code",
      "execution_count": null,
      "metadata": {
        "id": "obGSHCk8jtPy"
      },
      "outputs": [],
      "source": [
        "df_final_vid_lst.to_csv('df_final_vid_lst_'  + today_dt+'.csv',index=False)"
      ]
    },
    {
      "cell_type": "code",
      "execution_count": null,
      "metadata": {
        "id": "3Xj81JxXrhmH"
      },
      "outputs": [],
      "source": [
        "#sample_mp4='/content/drive/My Drive/thesis_work/audio/PhD_Thesis/data/video/Rec_20200328_174707_151_M.mp4'"
      ]
    },
    {
      "cell_type": "code",
      "execution_count": null,
      "metadata": {
        "id": "W9W39SsVkGrS"
      },
      "outputs": [],
      "source": [
        "#from IPython.display import HTML\n",
        "#from base64 import b64encode\n",
        "#mp4 = open(sample_mp4,'rb').read()\n",
        "#data_url = \"data:video/mp4;base64,\" + b64encode(mp4).decode()\n",
        "#HTML(\"\"\"\n",
        "#<video width=600 controls>\n",
        "#      <source src=\"%s\" type=\"video/mp4\">\n",
        "#</video>\n",
        "#\"\"\" % data_url)"
      ]
    },
    {
      "cell_type": "code",
      "execution_count": null,
      "metadata": {
        "id": "cCk_xL1JtE1i"
      },
      "outputs": [],
      "source": [
        "from datetime import date,datetime,timedelta\n",
        "\n",
        "import matplotlib.pyplot as plt\n",
        "import matplotlib.ticker as mtick\n",
        "import numpy as np\n",
        "import pandas as pd\n",
        "\n",
        "# Handle date time conversions between pandas and matplotlib\n",
        "from pandas.plotting import register_matplotlib_converters\n",
        "register_matplotlib_converters()"
      ]
    },
    {
      "cell_type": "code",
      "execution_count": null,
      "metadata": {
        "id": "JZEqmshmvl6E"
      },
      "outputs": [],
      "source": [
        "#df_final_vid_lst.head(2)"
      ]
    },
    {
      "cell_type": "code",
      "execution_count": null,
      "metadata": {
        "id": "HI8ElBX1tV1Y"
      },
      "outputs": [],
      "source": [
        "df_final_vid_lst['Time_Index'] = df_final_vid_lst['Orig_Video_Date']"
      ]
    },
    {
      "cell_type": "code",
      "execution_count": null,
      "metadata": {
        "id": "QTP9vQfwyJRr"
      },
      "outputs": [],
      "source": [
        "df_final_vid_lst['Day']=df_final_vid_lst['Orig_Video_Date'].apply(lambda x: str(x))\n",
        "df_final_vid_lst['Day'] =df_final_vid_lst['Day'].str[:10]\n",
        "df_final_vid_lst['Month']=df_final_vid_lst['Orig_Video_Date'].apply(lambda x: str(x))\n",
        "df_final_vid_lst['Month'] =df_final_vid_lst['Day'].str[:7]"
      ]
    },
    {
      "cell_type": "code",
      "execution_count": null,
      "metadata": {
        "id": "DaW6fs9HyUcI"
      },
      "outputs": [],
      "source": [
        "df_mnthly_video = df_final_vid_lst.groupby('Month').size()"
      ]
    },
    {
      "cell_type": "code",
      "execution_count": null,
      "metadata": {
        "id": "LQZ9fxf7z6tp"
      },
      "outputs": [],
      "source": [
        "#type(df_mnthly_video)"
      ]
    },
    {
      "cell_type": "code",
      "execution_count": null,
      "metadata": {
        "id": "gW4pC9Hm0WCU"
      },
      "outputs": [],
      "source": [
        "#df_monthly_video = pd.DataFrame(df_mnthly_video)"
      ]
    },
    {
      "cell_type": "code",
      "execution_count": null,
      "metadata": {
        "id": "tdknOronwARl"
      },
      "outputs": [],
      "source": [
        "#df_monthly_video"
      ]
    },
    {
      "cell_type": "code",
      "execution_count": null,
      "metadata": {
        "id": "aIFdD8sE-Cmz"
      },
      "outputs": [],
      "source": [
        "#df_final_vid_lst['Month'] = df_monthly.index\n",
        "#df_final_vid_lst['Month'] = pd.to_datetime(df_final_vid_lst['Orig_Video_Date'], format='%y%m%d')\n",
        "#df_monthly.reset_index(level=0, inplace=True)\n",
        "#df_final_vid_lst['Month'] = pd.DatetimeIndex(df_final_vid_lst['Orig_Video_Date']).month"
      ]
    },
    {
      "cell_type": "code",
      "execution_count": null,
      "metadata": {
        "id": "EQBKGAS_u_aI"
      },
      "outputs": [],
      "source": [
        "#df_monthly_video = df_final_vid_lst.groupby('Time_Index', as_index = False)['Month'].count()"
      ]
    },
    {
      "cell_type": "code",
      "execution_count": null,
      "metadata": {
        "id": "dik75656zNhD"
      },
      "outputs": [],
      "source": [
        "#df_monthly_video"
      ]
    },
    {
      "cell_type": "code",
      "execution_count": null,
      "metadata": {
        "id": "VXVoWN-dvXNt"
      },
      "outputs": [],
      "source": [
        "#df_daily_video.head(2)"
      ]
    },
    {
      "cell_type": "code",
      "execution_count": null,
      "metadata": {
        "id": "AomB104rvJ-H"
      },
      "outputs": [],
      "source": [
        "#df_final_vid_lst['Month'] = df_daily_video.Orig_Video_Date.apply(lambda x: x.strftime('%Y%m%d')).astype(int)"
      ]
    },
    {
      "cell_type": "code",
      "execution_count": null,
      "metadata": {
        "id": "XpepT1LHuYW1"
      },
      "outputs": [],
      "source": [
        "#df_final_vid_lst.set_index('Time_Index', inplace=True)"
      ]
    },
    {
      "cell_type": "code",
      "execution_count": null,
      "metadata": {
        "id": "TxJsT2bCuOpK"
      },
      "outputs": [],
      "source": [
        "#df_final_vid_lst.head()\n",
        "#df_video_monthly = df_final_vid_lst.resample('M').sum()"
      ]
    },
    {
      "cell_type": "code",
      "execution_count": null,
      "metadata": {
        "id": "SIZDaC-Husk7"
      },
      "outputs": [],
      "source": [
        "#df_video_monthly.head(2)"
      ]
    },
    {
      "cell_type": "markdown",
      "metadata": {
        "id": "gS91axEjsPN1"
      },
      "source": [
        "### 5. Weather Data"
      ]
    },
    {
      "cell_type": "code",
      "execution_count": null,
      "metadata": {
        "id": "7vA6ryrMsNso"
      },
      "outputs": [],
      "source": [
        "import glob\n",
        "path = r'/content/drive/My Drive/thesis_work/audio/PhD_Thesis/data/weather_data'\n",
        "all_files = glob.glob(path + \"/*.txt\")\n",
        "df_files = (pd.read_csv(f) for f in all_files)\n",
        "df_weather   = pd.concat(df_files, ignore_index=True)"
      ]
    },
    {
      "cell_type": "code",
      "execution_count": null,
      "metadata": {
        "id": "AKdnAugws4Sk"
      },
      "outputs": [],
      "source": [
        "df_weather.head(2)"
      ]
    }
  ],
  "metadata": {
    "colab": {
      "collapsed_sections": [],
      "machine_shape": "hm",
      "name": "DataAnnotate.ipynb",
      "provenance": [],
      "authorship_tag": "ABX9TyPjXlDZ0+sBwJOEwScbTLtR",
      "include_colab_link": true
    },
    "kernelspec": {
      "display_name": "Python 3",
      "name": "python3"
    },
    "language_info": {
      "name": "python"
    }
  },
  "nbformat": 4,
  "nbformat_minor": 0
}