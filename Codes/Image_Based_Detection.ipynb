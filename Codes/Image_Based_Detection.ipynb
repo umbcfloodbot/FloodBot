{
  "cells": [
    {
      "cell_type": "markdown",
      "metadata": {
        "id": "view-in-github",
        "colab_type": "text"
      },
      "source": [
        "<a href=\"https://colab.research.google.com/github/umbcfloodbot/FloodBot/blob/main/Image_Based_Detection.ipynb\" target=\"_parent\"><img src=\"https://colab.research.google.com/assets/colab-badge.svg\" alt=\"Open In Colab\"/></a>"
      ]
    },
    {
      "cell_type": "markdown",
      "metadata": {
        "id": "spoNK7_-R9Mm"
      },
      "source": [
        "# Run this code under tf1.4. Image PreProcessing works"
      ]
    },
    {
      "cell_type": "code",
      "execution_count": null,
      "metadata": {
        "id": "1M-rBAiLR9Mo"
      },
      "outputs": [],
      "source": [
        "import cv2\n",
        "import numpy as np\n",
        "import os\n",
        "import pandas as pd\n",
        "import platform\n",
        "import sqlalchemy\n",
        "import mysql.connector\n",
        "import requests\n",
        "import json\n",
        "from pandas.io.json import json_normalize\n",
        "import time"
      ]
    },
    {
      "cell_type": "code",
      "execution_count": null,
      "metadata": {
        "id": "9DxC0QXlR9Mq"
      },
      "outputs": [],
      "source": [
        "working_dir  =(\"C:\\\\Users\\Bipen\\\\Desktop\\\\open_cv\\\\\")\n",
        "src_vid_dir =(\"C:\\\\Users\\Bipen\\\\Desktop\\\\open_cv\\\\raw_video_incrmntl\\\\\")"
      ]
    },
    {
      "cell_type": "code",
      "execution_count": null,
      "metadata": {
        "id": "YI5uyrPRR9Mr"
      },
      "outputs": [],
      "source": [
        "os.chdir(working_dir)"
      ]
    },
    {
      "cell_type": "markdown",
      "metadata": {
        "id": "M1Y8C7JJR9Mr"
      },
      "source": [
        "# Function to get TimeStamps on Video"
      ]
    },
    {
      "cell_type": "code",
      "execution_count": null,
      "metadata": {
        "id": "nZXDuqnXR9Mr"
      },
      "outputs": [],
      "source": [
        "def creation_date(path_to_file):\n",
        "    \"\"\"\n",
        "    Try to get the date that a file was created, falling back to when it was\n",
        "    last modified if that isn't possible.\n",
        "    See http://stackoverflow.com/a/39501288/1709587 for explanation.\n",
        "    \"\"\"\n",
        "    if platform.system() == 'Windows':\n",
        "        return os.path.getmtime(path_to_file)\n",
        "   \n",
        "    else:\n",
        "        stat = os.stat(path_to_file)\n",
        "        try:\n",
        "            return stat.st_birthtime\n",
        "        except AttributeError:\n",
        "            # We're probably on Linux. No easy way to get creation dates here,\n",
        "            # so we'll settle for when its content was last modified.\n",
        "            return stat.st_mtime"
      ]
    },
    {
      "cell_type": "markdown",
      "metadata": {
        "id": "fNJwgLrNR9Ms"
      },
      "source": [
        "# Function to convert TimeStamps on Video in UNIX"
      ]
    },
    {
      "cell_type": "code",
      "execution_count": null,
      "metadata": {
        "id": "cdVFZS1YR9Ms"
      },
      "outputs": [],
      "source": [
        "#from datetime import datetime\n",
        "\n",
        "def convts_min(ts):\n",
        "    from datetime import datetime\n",
        "    ts = datetime.utcfromtimestamp(ts).strftime('%Y%m%d%H%M')\n",
        "    #ts_dash = datetime.utcfromtimestamp(ts).strftime('%Y-%m-%d-%H-%M')\n",
        "    return ts;\n",
        "\n",
        "# if you encounter a \"year is out of range\" error the timestamp\n",
        "# may be in milliseconds, try `ts /= 1000` in that case\n",
        "#print(datetime.utcfromtimestamp(ts).strftime('%Y%m%d%H%M'))"
      ]
    },
    {
      "cell_type": "code",
      "execution_count": null,
      "metadata": {
        "id": "wWKCdUJnR9Mt"
      },
      "outputs": [],
      "source": [
        "#from datetime import datetime\n",
        "\n",
        "def convts_hr(ts):\n",
        "    from datetime import datetime\n",
        "    ts = datetime.utcfromtimestamp(ts).strftime('%Y%m%d%H')\n",
        "    #ts_dash = datetime.utcfromtimestamp(ts).strftime('%Y-%m-%d-%H-%M')\n",
        "    return ts;\n",
        "\n",
        "# if you encounter a \"year is out of range\" error the timestamp\n",
        "# may be in milliseconds, try `ts /= 1000` in that case\n",
        "#print(datetime.utcfromtimestamp(ts).strftime('%Y%m%d%H%M'))"
      ]
    },
    {
      "cell_type": "code",
      "execution_count": null,
      "metadata": {
        "id": "t_lPrcQER9Mt"
      },
      "outputs": [],
      "source": [
        "#from datetime import datetime\n",
        "\n",
        "def convts_day(ts):\n",
        "    from datetime import datetime\n",
        "    ts = datetime.utcfromtimestamp(ts).strftime('%Y%m%d')\n",
        "    #ts_dash = datetime.utcfromtimestamp(ts).strftime('%Y-%m-%d-%H-%M')\n",
        "    return ts;\n",
        "\n",
        "# if you encounter a \"year is out of range\" error the timestamp\n",
        "# may be in milliseconds, try `ts /= 1000` in that case\n",
        "#print(datetime.utcfromtimestamp(ts).strftime('%Y%m%d%H%M'))"
      ]
    },
    {
      "cell_type": "code",
      "execution_count": null,
      "metadata": {
        "id": "9hWIUQUER9Mu"
      },
      "outputs": [],
      "source": [
        "#from datetime import datetime\n",
        "\n",
        "def convts_est(ts):\n",
        "    from datetime import datetime\n",
        "    ts = time.strftime('%Y_%m_%d_%H:%M', time.localtime(ts))\n",
        "    #ts1=time.strftime('%Y-%m-%d %H:%M', time.localtime(ts))\n",
        "    #ts_dash = datetime.utcfromtimestamp(ts).strftime('%Y-%m-%d-%H-%M')\n",
        "    return ts;\n",
        "\n",
        "# if you encounter a \"year is out of range\" error the timestamp\n",
        "# may be in milliseconds, try `ts /= 1000` in that case\n",
        "#print(datetime.utcfromtimestamp(ts).strftime('%Y%m%d%H%M'))\n",
        "\n",
        "#time.strftime('%Y-%m-%d %H:%M', time.localtime(ts))"
      ]
    },
    {
      "cell_type": "markdown",
      "metadata": {
        "id": "Oc3B5ikeR9Mu"
      },
      "source": [
        "# Create a dataframe with List of Videos Avialable in the raw_video folder"
      ]
    },
    {
      "cell_type": "code",
      "execution_count": null,
      "metadata": {
        "id": "gh5U8siGR9Mv"
      },
      "outputs": [],
      "source": [
        "src_vid_dir=\"C:\\\\Users\\\\Bipen\\\\Desktop\\\\open_cv\\\\raw_video_incrmntl\\\\\"\n",
        "root = \"C:\\\\Users\\\\Bipen\\\\Desktop\\\\open_cv\\\\raw_video_incrmntl\\\\\"\n",
        "mp4_vid_list =[]\n",
        "mp4_vid_unix_ts = []\n",
        "mp4_vid_mint_ts =[]\n",
        "mp4_vid_hr_ts =[]\n",
        "mp4_vid_utc =[]\n",
        "mp4_vid_day_ts =[]\n",
        "mp4_vid_EST_ts =[]\n",
        "\n",
        "import os\n",
        "for file in os.listdir(src_vid_dir):\n",
        "    if file.endswith(\".mp4\"):\n",
        "        file= src_vid_dir + '\\\\' + file\n",
        "        #rint(int(creation_date(file)))\n",
        "        unix_tx=int(creation_date(file))\n",
        "        mp4_vid_unix_ts.append(int(unix_tx))\n",
        "        mp4_vid_mint_ts.append(convts_min(int(unix_tx))) \n",
        "        mp4_vid_hr_ts.append(convts_hr(int(unix_tx))) \n",
        "        mp4_vid_list.append(os.path.join(file))\n",
        "        mp4_vid_day_ts.append(convts_day(int(unix_tx)))\n",
        "        mp4_vid_EST_ts.append(convts_est(int(unix_tx)))\n",
        "        "
      ]
    },
    {
      "cell_type": "markdown",
      "metadata": {
        "id": "9WzpNObnR9Mv"
      },
      "source": [
        "# Store all the videos in TimeStamp"
      ]
    },
    {
      "cell_type": "code",
      "execution_count": null,
      "metadata": {
        "id": "dT8HuKfkR9Mw"
      },
      "outputs": [],
      "source": [
        "df_mp4_vid_list = pd.DataFrame(mp4_vid_list,columns = ['Orig_Frame'] )\n",
        "df_mp4_vid_unix_ts= pd.DataFrame(mp4_vid_unix_ts,columns = ['Orig_Vid_TS'] )\n",
        "df_mp4_vid_utc_mnt= pd.DataFrame(mp4_vid_mint_ts,columns = ['UTC_Vid_TS_min'] )\n",
        "df_mp4_vid_utc_hr= pd.DataFrame(mp4_vid_hr_ts,columns = ['UTC_Vid_TS_hr'] )\n",
        "df_mp4_vid_utc_day= pd.DataFrame(mp4_vid_day_ts,columns = ['UTC_Vid_TS_day'] )\n",
        "df_mp4_vid_EST_ts= pd.DataFrame(mp4_vid_EST_ts,columns = ['Vid_EST_TS'] )"
      ]
    },
    {
      "cell_type": "code",
      "execution_count": null,
      "metadata": {
        "id": "aH3lqJNjR9Mw"
      },
      "outputs": [],
      "source": [
        "df_mp4 = pd.concat([df_mp4_vid_list,df_mp4_vid_unix_ts,df_mp4_vid_utc_mnt,df_mp4_vid_utc_hr,df_mp4_vid_utc_day,df_mp4_vid_EST_ts], axis=1)"
      ]
    },
    {
      "cell_type": "code",
      "execution_count": null,
      "metadata": {
        "id": "ytxXEVG-R9Mw"
      },
      "outputs": [],
      "source": [
        "pd.set_option('display.max_colwidth', -1)"
      ]
    },
    {
      "cell_type": "code",
      "execution_count": null,
      "metadata": {
        "id": "tkaDUq_NR9Mx",
        "outputId": "0ae63054-17c5-4800-d7ae-88d53c1044b4"
      },
      "outputs": [
        {
          "data": {
            "text/plain": [
              "(656, 6)"
            ]
          },
          "execution_count": 45,
          "metadata": {},
          "output_type": "execute_result"
        }
      ],
      "source": [
        "df_mp4.shape"
      ]
    },
    {
      "cell_type": "markdown",
      "metadata": {
        "id": "3Otpl0ZhR9My"
      },
      "source": [
        "# Some more house keeping to arrange the images and vidoes"
      ]
    },
    {
      "cell_type": "code",
      "execution_count": null,
      "metadata": {
        "id": "GxSehSR-R9My"
      },
      "outputs": [],
      "source": [
        "df_mp4['Video_Frame'] = df_mp4['Orig_Frame'].str[51:]\n",
        "df_mp4['Video_Frame3'] = df_mp4['Orig_Frame'].str[-5:-4]\n",
        "df_mp4['Frame_Name'] = df_mp4['Video_Frame'].str[4:]\n",
        "df_mp4 = df_mp4[df_mp4['Video_Frame3'] == 'M']\n",
        "df_mp4 = df_mp4.reset_index(drop=True)\n",
        "df_mp4['Img_Frame'] = df_mp4['Video_Frame'].str[:-10]\n",
        "df_mp4.drop(['Video_Frame3'], axis=1,inplace=True)\n",
        "df_mp4.drop(['Orig_Frame'], axis=1, inplace=True)"
      ]
    },
    {
      "cell_type": "code",
      "execution_count": null,
      "metadata": {
        "id": "7MIw4aCKR9My",
        "outputId": "a2b57b92-6dc8-4837-f2fa-177d31151cab"
      },
      "outputs": [
        {
          "data": {
            "text/plain": [
              "(328, 8)"
            ]
          },
          "execution_count": 47,
          "metadata": {},
          "output_type": "execute_result"
        }
      ],
      "source": [
        "df_mp4.shape"
      ]
    },
    {
      "cell_type": "markdown",
      "metadata": {
        "id": "xS0Hn70DR9Mz"
      },
      "source": [
        "# Push these Record to Database for Loosely Supervised Labeling"
      ]
    },
    {
      "cell_type": "code",
      "execution_count": null,
      "metadata": {
        "id": "_MLMBIHpR9Mz"
      },
      "outputs": [],
      "source": [
        "# Import dataframe into MySQL\n",
        "import sqlalchemy\n",
        "database_username = 'XXXXX'\n",
        "database_password = 'XXXX'\n",
        "database_ip       = '209.208.XXX.XXX'\n",
        "database_name     = 'ec_sensors'\n",
        "database_connection = sqlalchemy.create_engine('mysql+mysqlconnector://{0}:{1}@{2}/{3}'.\n",
        "                                               format(database_username, database_password, \n",
        "                                                      database_ip, database_name))"
      ]
    },
    {
      "cell_type": "code",
      "execution_count": null,
      "metadata": {
        "id": "0WA661DGR9Mz"
      },
      "outputs": [],
      "source": [
        "df_mp4.to_sql(con=database_connection, name='video_frame', if_exists='append', index=False)\n"
      ]
    },
    {
      "cell_type": "code",
      "execution_count": null,
      "metadata": {
        "id": "7-_3WtPDR9M0"
      },
      "outputs": [],
      "source": [
        "df_mp4['ID'] = (df_mp4.index+1)"
      ]
    },
    {
      "cell_type": "markdown",
      "metadata": {
        "id": "gWhvclNWR9M0"
      },
      "source": [
        "# Lets look at the Weather Pattern when we have Video Recordings"
      ]
    },
    {
      "cell_type": "code",
      "execution_count": null,
      "metadata": {
        "id": "wHJy8JP1R9M0"
      },
      "outputs": [],
      "source": [
        "sql_stmnt=\"select distinct CAST((UNIX_TIMESTAMP(UTC_Vid_TS_day)) AS UNSIGNED) unix_day FROM ec_sensors.video_frame order by UTC_Vid_TS_day;\""
      ]
    },
    {
      "cell_type": "code",
      "execution_count": null,
      "metadata": {
        "id": "mfIBlK1CR9M0"
      },
      "outputs": [],
      "source": [
        "df_video_dt = pd.read_sql(sql_stmnt, con=database_connection)"
      ]
    },
    {
      "cell_type": "markdown",
      "metadata": {
        "id": "DLdRnwHdR9M0"
      },
      "source": [
        "# Create list of all the Weather Days that we have Records"
      ]
    },
    {
      "cell_type": "code",
      "execution_count": null,
      "metadata": {
        "id": "Vm7JehQKR9M1"
      },
      "outputs": [],
      "source": [
        "url = []\n",
        "url1 = \"https://api.darksky.net/forecast/9aa4f1df93efbffea9c020381c2f6270/42.3601,-76.7998,\"\n",
        "for row in df_video_dt.itertuples():\n",
        "    time= row.unix_day\n",
        "    url2 =str(time)\n",
        "    url3=\"?exclude=currently,flags\"  \n",
        "    url.append(url1+url2+url3)"
      ]
    },
    {
      "cell_type": "code",
      "execution_count": null,
      "metadata": {
        "id": "7xT1M6AoR9M1"
      },
      "outputs": [],
      "source": [
        "df_url= pd.DataFrame(url,columns = ['URLS'])"
      ]
    },
    {
      "cell_type": "code",
      "execution_count": null,
      "metadata": {
        "id": "ORxYP6zXR9M1",
        "outputId": "9ed74317-bb5d-46ec-98db-81236a26d39e"
      },
      "outputs": [
        {
          "data": {
            "text/plain": [
              "pandas.core.frame.DataFrame"
            ]
          },
          "execution_count": 208,
          "metadata": {},
          "output_type": "execute_result"
        }
      ],
      "source": [
        "type(df_mp4)"
      ]
    },
    {
      "cell_type": "code",
      "execution_count": null,
      "metadata": {
        "id": "eKm00qpKR9M2",
        "outputId": "71ebfd34-c748-47bb-f3ba-c9234c8e51e0"
      },
      "outputs": [
        {
          "data": {
            "text/html": [
              "<div>\n",
              "<style scoped>\n",
              "    .dataframe tbody tr th:only-of-type {\n",
              "        vertical-align: middle;\n",
              "    }\n",
              "\n",
              "    .dataframe tbody tr th {\n",
              "        vertical-align: top;\n",
              "    }\n",
              "\n",
              "    .dataframe thead th {\n",
              "        text-align: right;\n",
              "    }\n",
              "</style>\n",
              "<table border=\"1\" class=\"dataframe\">\n",
              "  <thead>\n",
              "    <tr style=\"text-align: right;\">\n",
              "      <th></th>\n",
              "      <th>URLS</th>\n",
              "    </tr>\n",
              "  </thead>\n",
              "  <tbody>\n",
              "    <tr>\n",
              "      <th>0</th>\n",
              "      <td>https://api.darksky.net/forecast/9aa4f1df93efbffea9c020381c2f6270/42.3601,-76.7998,1579323600?exclude=currently,flags</td>\n",
              "    </tr>\n",
              "    <tr>\n",
              "      <th>1</th>\n",
              "      <td>https://api.darksky.net/forecast/9aa4f1df93efbffea9c020381c2f6270/42.3601,-76.7998,1579410000?exclude=currently,flags</td>\n",
              "    </tr>\n",
              "    <tr>\n",
              "      <th>2</th>\n",
              "      <td>https://api.darksky.net/forecast/9aa4f1df93efbffea9c020381c2f6270/42.3601,-76.7998,1579496400?exclude=currently,flags</td>\n",
              "    </tr>\n",
              "    <tr>\n",
              "      <th>3</th>\n",
              "      <td>https://api.darksky.net/forecast/9aa4f1df93efbffea9c020381c2f6270/42.3601,-76.7998,1579582800?exclude=currently,flags</td>\n",
              "    </tr>\n",
              "    <tr>\n",
              "      <th>4</th>\n",
              "      <td>https://api.darksky.net/forecast/9aa4f1df93efbffea9c020381c2f6270/42.3601,-76.7998,1579669200?exclude=currently,flags</td>\n",
              "    </tr>\n",
              "    <tr>\n",
              "      <th>5</th>\n",
              "      <td>https://api.darksky.net/forecast/9aa4f1df93efbffea9c020381c2f6270/42.3601,-76.7998,1579755600?exclude=currently,flags</td>\n",
              "    </tr>\n",
              "    <tr>\n",
              "      <th>6</th>\n",
              "      <td>https://api.darksky.net/forecast/9aa4f1df93efbffea9c020381c2f6270/42.3601,-76.7998,1579842000?exclude=currently,flags</td>\n",
              "    </tr>\n",
              "    <tr>\n",
              "      <th>7</th>\n",
              "      <td>https://api.darksky.net/forecast/9aa4f1df93efbffea9c020381c2f6270/42.3601,-76.7998,1579928400?exclude=currently,flags</td>\n",
              "    </tr>\n",
              "    <tr>\n",
              "      <th>8</th>\n",
              "      <td>https://api.darksky.net/forecast/9aa4f1df93efbffea9c020381c2f6270/42.3601,-76.7998,1580014800?exclude=currently,flags</td>\n",
              "    </tr>\n",
              "    <tr>\n",
              "      <th>9</th>\n",
              "      <td>https://api.darksky.net/forecast/9aa4f1df93efbffea9c020381c2f6270/42.3601,-76.7998,1580101200?exclude=currently,flags</td>\n",
              "    </tr>\n",
              "    <tr>\n",
              "      <th>10</th>\n",
              "      <td>https://api.darksky.net/forecast/9aa4f1df93efbffea9c020381c2f6270/42.3601,-76.7998,1580187600?exclude=currently,flags</td>\n",
              "    </tr>\n",
              "    <tr>\n",
              "      <th>11</th>\n",
              "      <td>https://api.darksky.net/forecast/9aa4f1df93efbffea9c020381c2f6270/42.3601,-76.7998,1580274000?exclude=currently,flags</td>\n",
              "    </tr>\n",
              "    <tr>\n",
              "      <th>12</th>\n",
              "      <td>https://api.darksky.net/forecast/9aa4f1df93efbffea9c020381c2f6270/42.3601,-76.7998,1580360400?exclude=currently,flags</td>\n",
              "    </tr>\n",
              "    <tr>\n",
              "      <th>13</th>\n",
              "      <td>https://api.darksky.net/forecast/9aa4f1df93efbffea9c020381c2f6270/42.3601,-76.7998,1580446800?exclude=currently,flags</td>\n",
              "    </tr>\n",
              "    <tr>\n",
              "      <th>14</th>\n",
              "      <td>https://api.darksky.net/forecast/9aa4f1df93efbffea9c020381c2f6270/42.3601,-76.7998,1580533200?exclude=currently,flags</td>\n",
              "    </tr>\n",
              "    <tr>\n",
              "      <th>15</th>\n",
              "      <td>https://api.darksky.net/forecast/9aa4f1df93efbffea9c020381c2f6270/42.3601,-76.7998,1580619600?exclude=currently,flags</td>\n",
              "    </tr>\n",
              "    <tr>\n",
              "      <th>16</th>\n",
              "      <td>https://api.darksky.net/forecast/9aa4f1df93efbffea9c020381c2f6270/42.3601,-76.7998,1580706000?exclude=currently,flags</td>\n",
              "    </tr>\n",
              "    <tr>\n",
              "      <th>17</th>\n",
              "      <td>https://api.darksky.net/forecast/9aa4f1df93efbffea9c020381c2f6270/42.3601,-76.7998,1580792400?exclude=currently,flags</td>\n",
              "    </tr>\n",
              "    <tr>\n",
              "      <th>18</th>\n",
              "      <td>https://api.darksky.net/forecast/9aa4f1df93efbffea9c020381c2f6270/42.3601,-76.7998,1580878800?exclude=currently,flags</td>\n",
              "    </tr>\n",
              "    <tr>\n",
              "      <th>19</th>\n",
              "      <td>https://api.darksky.net/forecast/9aa4f1df93efbffea9c020381c2f6270/42.3601,-76.7998,1580965200?exclude=currently,flags</td>\n",
              "    </tr>\n",
              "    <tr>\n",
              "      <th>20</th>\n",
              "      <td>https://api.darksky.net/forecast/9aa4f1df93efbffea9c020381c2f6270/42.3601,-76.7998,1581051600?exclude=currently,flags</td>\n",
              "    </tr>\n",
              "  </tbody>\n",
              "</table>\n",
              "</div>"
            ],
            "text/plain": [
              "                                                                                                                     URLS\n",
              "0   https://api.darksky.net/forecast/9aa4f1df93efbffea9c020381c2f6270/42.3601,-76.7998,1579323600?exclude=currently,flags\n",
              "1   https://api.darksky.net/forecast/9aa4f1df93efbffea9c020381c2f6270/42.3601,-76.7998,1579410000?exclude=currently,flags\n",
              "2   https://api.darksky.net/forecast/9aa4f1df93efbffea9c020381c2f6270/42.3601,-76.7998,1579496400?exclude=currently,flags\n",
              "3   https://api.darksky.net/forecast/9aa4f1df93efbffea9c020381c2f6270/42.3601,-76.7998,1579582800?exclude=currently,flags\n",
              "4   https://api.darksky.net/forecast/9aa4f1df93efbffea9c020381c2f6270/42.3601,-76.7998,1579669200?exclude=currently,flags\n",
              "5   https://api.darksky.net/forecast/9aa4f1df93efbffea9c020381c2f6270/42.3601,-76.7998,1579755600?exclude=currently,flags\n",
              "6   https://api.darksky.net/forecast/9aa4f1df93efbffea9c020381c2f6270/42.3601,-76.7998,1579842000?exclude=currently,flags\n",
              "7   https://api.darksky.net/forecast/9aa4f1df93efbffea9c020381c2f6270/42.3601,-76.7998,1579928400?exclude=currently,flags\n",
              "8   https://api.darksky.net/forecast/9aa4f1df93efbffea9c020381c2f6270/42.3601,-76.7998,1580014800?exclude=currently,flags\n",
              "9   https://api.darksky.net/forecast/9aa4f1df93efbffea9c020381c2f6270/42.3601,-76.7998,1580101200?exclude=currently,flags\n",
              "10  https://api.darksky.net/forecast/9aa4f1df93efbffea9c020381c2f6270/42.3601,-76.7998,1580187600?exclude=currently,flags\n",
              "11  https://api.darksky.net/forecast/9aa4f1df93efbffea9c020381c2f6270/42.3601,-76.7998,1580274000?exclude=currently,flags\n",
              "12  https://api.darksky.net/forecast/9aa4f1df93efbffea9c020381c2f6270/42.3601,-76.7998,1580360400?exclude=currently,flags\n",
              "13  https://api.darksky.net/forecast/9aa4f1df93efbffea9c020381c2f6270/42.3601,-76.7998,1580446800?exclude=currently,flags\n",
              "14  https://api.darksky.net/forecast/9aa4f1df93efbffea9c020381c2f6270/42.3601,-76.7998,1580533200?exclude=currently,flags\n",
              "15  https://api.darksky.net/forecast/9aa4f1df93efbffea9c020381c2f6270/42.3601,-76.7998,1580619600?exclude=currently,flags\n",
              "16  https://api.darksky.net/forecast/9aa4f1df93efbffea9c020381c2f6270/42.3601,-76.7998,1580706000?exclude=currently,flags\n",
              "17  https://api.darksky.net/forecast/9aa4f1df93efbffea9c020381c2f6270/42.3601,-76.7998,1580792400?exclude=currently,flags\n",
              "18  https://api.darksky.net/forecast/9aa4f1df93efbffea9c020381c2f6270/42.3601,-76.7998,1580878800?exclude=currently,flags\n",
              "19  https://api.darksky.net/forecast/9aa4f1df93efbffea9c020381c2f6270/42.3601,-76.7998,1580965200?exclude=currently,flags\n",
              "20  https://api.darksky.net/forecast/9aa4f1df93efbffea9c020381c2f6270/42.3601,-76.7998,1581051600?exclude=currently,flags"
            ]
          },
          "execution_count": 209,
          "metadata": {},
          "output_type": "execute_result"
        }
      ],
      "source": [
        "df_url"
      ]
    },
    {
      "cell_type": "markdown",
      "metadata": {
        "id": "8pjr2TIlR9M2"
      },
      "source": [
        "# This piece write back hourly weather for the days we had video captured."
      ]
    },
    {
      "cell_type": "code",
      "execution_count": null,
      "metadata": {
        "id": "ryYVnD4eR9M2",
        "outputId": "1257876d-1842-4f55-f193-b168f5f14e6b"
      },
      "outputs": [
        {
          "name": "stdout",
          "output_type": "stream",
          "text": [
            "Start Extracting0\n",
            " Done URL Parrsing Waiting\n",
            "DB Writing\n",
            "Done Looping ...\n",
            "Start Extracting0\n",
            " Done URL Parrsing Waiting\n",
            "DB Writing\n",
            "Done Looping ...\n",
            "Start Extracting0\n",
            " Done URL Parrsing Waiting\n",
            "DB Writing\n",
            "Done Looping ...\n",
            "Start Extracting0\n",
            " Done URL Parrsing Waiting\n",
            "DB Writing\n",
            "Done Looping ...\n",
            "Start Extracting0\n",
            " Done URL Parrsing Waiting\n",
            "DB Writing\n",
            "Done Looping ...\n",
            "Start Extracting0\n",
            " Done URL Parrsing Waiting\n",
            "DB Writing\n",
            "Done Looping ...\n",
            "Start Extracting0\n",
            " Done URL Parrsing Waiting\n",
            "DB Writing\n",
            "Done Looping ...\n",
            "Start Extracting0\n",
            " Done URL Parrsing Waiting\n",
            "DB Writing\n",
            "Done Looping ...\n",
            "Start Extracting0\n",
            " Done URL Parrsing Waiting\n",
            "DB Writing\n",
            "Done Looping ...\n",
            "Start Extracting0\n",
            " Done URL Parrsing Waiting\n",
            "DB Writing\n",
            "Done Looping ...\n",
            "Start Extracting0\n",
            " Done URL Parrsing Waiting\n",
            "DB Writing\n",
            "Done Looping ...\n",
            "Start Extracting0\n",
            " Done URL Parrsing Waiting\n",
            "DB Writing\n",
            "Done Looping ...\n",
            "Start Extracting0\n",
            " Done URL Parrsing Waiting\n",
            "DB Writing\n",
            "Done Looping ...\n",
            "Start Extracting0\n",
            " Done URL Parrsing Waiting\n",
            "DB Writing\n",
            "Done Looping ...\n",
            "Start Extracting0\n",
            " Done URL Parrsing Waiting\n",
            "DB Writing\n",
            "Done Looping ...\n",
            "Start Extracting0\n",
            " Done URL Parrsing Waiting\n",
            "DB Writing\n",
            "Done Looping ...\n",
            "Start Extracting0\n",
            " Done URL Parrsing Waiting\n",
            "DB Writing\n",
            "Done Looping ...\n",
            "Start Extracting0\n",
            " Done URL Parrsing Waiting\n",
            "DB Writing\n",
            "Done Looping ...\n",
            "Start Extracting0\n",
            " Done URL Parrsing Waiting\n",
            "DB Writing\n",
            "Done Looping ...\n",
            "Start Extracting0\n",
            " Done URL Parrsing Waiting\n",
            "DB Writing\n",
            "Done Looping ...\n",
            "Start Extracting0\n",
            " Done URL Parrsing Waiting\n",
            "DB Writing\n",
            "Done Looping ...\n"
          ]
        }
      ],
      "source": [
        "import time\n",
        "i=0\n",
        "for row in df_url.itertuples():\n",
        "    print('Start Extracting' + str(i))\n",
        "    url=row.URLS\n",
        "    time.sleep(20)   \n",
        "    response = requests.request(\"GET\", url)\n",
        "    DarkSky_Out=response.text\n",
        "    data_parsed = json.loads(DarkSky_Out)\n",
        "    df_ec_weather=json_normalize(data_parsed)\n",
        "    hourly_data=  df_ec_weather['hourly.data'].values[0]\n",
        "    #print('Done Waiting')\n",
        "    df_dhourly_data=json_normalize(hourly_data)\n",
        "    print(' Done URL Parrsing Waiting')\n",
        "    time.sleep(5)\n",
        "    print('DB Writing')\n",
        "    df_dhourly_data.to_sql(con=database_connection, name='video_weather', if_exists='append', index=False)\n",
        "    response=''\n",
        "    DarkSky_Out=''\n",
        "    data_parsed=''\n",
        "    del df_ec_weather \n",
        "    hourly_data=''\n",
        "    del df_dhourly_data\n",
        "    i += i\n",
        "    print('Done Looping ...')"
      ]
    },
    {
      "cell_type": "markdown",
      "metadata": {
        "id": "TNf8pvzBR9M3"
      },
      "source": [
        "# Start Open CV works now (Extarct frame @XX for Labeling)"
      ]
    },
    {
      "cell_type": "code",
      "execution_count": null,
      "metadata": {
        "id": "BISEErp3R9M3"
      },
      "outputs": [],
      "source": [
        "sql_stmnt_max_frm =\"select max(cast(digits(frame_id) as UNSIGNED) )Last_frm from image_frame\""
      ]
    },
    {
      "cell_type": "code",
      "execution_count": null,
      "metadata": {
        "id": "jNQvudozR9M3"
      },
      "outputs": [],
      "source": [
        "j_max = pd.read_sql(sql_stmnt_max_frm, con=database_connection)"
      ]
    },
    {
      "cell_type": "code",
      "execution_count": null,
      "metadata": {
        "id": "HURGONeSR9M3",
        "outputId": "db08107f-bcba-46fc-82c8-ed2d3f247944"
      },
      "outputs": [
        {
          "data": {
            "text/html": [
              "<div>\n",
              "<style scoped>\n",
              "    .dataframe tbody tr th:only-of-type {\n",
              "        vertical-align: middle;\n",
              "    }\n",
              "\n",
              "    .dataframe tbody tr th {\n",
              "        vertical-align: top;\n",
              "    }\n",
              "\n",
              "    .dataframe thead th {\n",
              "        text-align: right;\n",
              "    }\n",
              "</style>\n",
              "<table border=\"1\" class=\"dataframe\">\n",
              "  <thead>\n",
              "    <tr style=\"text-align: right;\">\n",
              "      <th></th>\n",
              "      <th>Last_frm</th>\n",
              "    </tr>\n",
              "  </thead>\n",
              "  <tbody>\n",
              "    <tr>\n",
              "      <th>0</th>\n",
              "      <td>8934</td>\n",
              "    </tr>\n",
              "  </tbody>\n",
              "</table>\n",
              "</div>"
            ],
            "text/plain": [
              "   Last_frm\n",
              "0  8934    "
            ]
          },
          "execution_count": 178,
          "metadata": {},
          "output_type": "execute_result"
        }
      ],
      "source": [
        "j_max"
      ]
    },
    {
      "cell_type": "code",
      "execution_count": null,
      "metadata": {
        "id": "Jnit1xbkR9M4"
      },
      "outputs": [],
      "source": [
        "j_max= (j_max['Last_frm'].iloc[0]) "
      ]
    },
    {
      "cell_type": "code",
      "execution_count": null,
      "metadata": {
        "id": "Kx6IQTQYR9M4"
      },
      "outputs": [],
      "source": [
        "j_max = j_max + 1"
      ]
    },
    {
      "cell_type": "code",
      "execution_count": null,
      "metadata": {
        "id": "XcM4nJjeR9M4",
        "outputId": "d4c64003-9e8a-44cf-fcaf-40671ea472ec"
      },
      "outputs": [
        {
          "data": {
            "text/html": [
              "<div>\n",
              "<style scoped>\n",
              "    .dataframe tbody tr th:only-of-type {\n",
              "        vertical-align: middle;\n",
              "    }\n",
              "\n",
              "    .dataframe tbody tr th {\n",
              "        vertical-align: top;\n",
              "    }\n",
              "\n",
              "    .dataframe thead th {\n",
              "        text-align: right;\n",
              "    }\n",
              "</style>\n",
              "<table border=\"1\" class=\"dataframe\">\n",
              "  <thead>\n",
              "    <tr style=\"text-align: right;\">\n",
              "      <th></th>\n",
              "      <th>Orig_Vid_TS</th>\n",
              "      <th>UTC_Vid_TS_min</th>\n",
              "      <th>UTC_Vid_TS_hr</th>\n",
              "      <th>UTC_Vid_TS_day</th>\n",
              "      <th>Vid_EST_TS</th>\n",
              "      <th>Video_Frame</th>\n",
              "      <th>Frame_Name</th>\n",
              "      <th>Img_Frame</th>\n",
              "    </tr>\n",
              "  </thead>\n",
              "  <tbody>\n",
              "    <tr>\n",
              "      <th>0</th>\n",
              "      <td>1580665256</td>\n",
              "      <td>202002021740</td>\n",
              "      <td>2020020217</td>\n",
              "      <td>20200202</td>\n",
              "      <td>2020_02_02_12:40</td>\n",
              "      <td>Rec_20200202_174020_151_M.mp4</td>\n",
              "      <td>20200202_174020_151_M.mp4</td>\n",
              "      <td>Rec_20200202_174020</td>\n",
              "    </tr>\n",
              "    <tr>\n",
              "      <th>1</th>\n",
              "      <td>1580668302</td>\n",
              "      <td>202002021831</td>\n",
              "      <td>2020020218</td>\n",
              "      <td>20200202</td>\n",
              "      <td>2020_02_02_13:31</td>\n",
              "      <td>Rec_20200202_183054_151_M.mp4</td>\n",
              "      <td>20200202_183054_151_M.mp4</td>\n",
              "      <td>Rec_20200202_183054</td>\n",
              "    </tr>\n",
              "    <tr>\n",
              "      <th>2</th>\n",
              "      <td>1580668618</td>\n",
              "      <td>202002021836</td>\n",
              "      <td>2020020218</td>\n",
              "      <td>20200202</td>\n",
              "      <td>2020_02_02_13:36</td>\n",
              "      <td>Rec_20200202_183627_151_M.mp4</td>\n",
              "      <td>20200202_183627_151_M.mp4</td>\n",
              "      <td>Rec_20200202_183627</td>\n",
              "    </tr>\n",
              "    <tr>\n",
              "      <th>3</th>\n",
              "      <td>1580669740</td>\n",
              "      <td>202002021855</td>\n",
              "      <td>2020020218</td>\n",
              "      <td>20200202</td>\n",
              "      <td>2020_02_02_13:55</td>\n",
              "      <td>Rec_20200202_185509_151_M.mp4</td>\n",
              "      <td>20200202_185509_151_M.mp4</td>\n",
              "      <td>Rec_20200202_185509</td>\n",
              "    </tr>\n",
              "    <tr>\n",
              "      <th>4</th>\n",
              "      <td>1580670156</td>\n",
              "      <td>202002021902</td>\n",
              "      <td>2020020219</td>\n",
              "      <td>20200202</td>\n",
              "      <td>2020_02_02_14:02</td>\n",
              "      <td>Rec_20200202_190205_151_M.mp4</td>\n",
              "      <td>20200202_190205_151_M.mp4</td>\n",
              "      <td>Rec_20200202_190205</td>\n",
              "    </tr>\n",
              "  </tbody>\n",
              "</table>\n",
              "</div>"
            ],
            "text/plain": [
              "   Orig_Vid_TS UTC_Vid_TS_min UTC_Vid_TS_hr UTC_Vid_TS_day        Vid_EST_TS  \\\n",
              "0  1580665256   202002021740   2020020217    20200202       2020_02_02_12:40   \n",
              "1  1580668302   202002021831   2020020218    20200202       2020_02_02_13:31   \n",
              "2  1580668618   202002021836   2020020218    20200202       2020_02_02_13:36   \n",
              "3  1580669740   202002021855   2020020218    20200202       2020_02_02_13:55   \n",
              "4  1580670156   202002021902   2020020219    20200202       2020_02_02_14:02   \n",
              "\n",
              "                     Video_Frame                 Frame_Name  \\\n",
              "0  Rec_20200202_174020_151_M.mp4  20200202_174020_151_M.mp4   \n",
              "1  Rec_20200202_183054_151_M.mp4  20200202_183054_151_M.mp4   \n",
              "2  Rec_20200202_183627_151_M.mp4  20200202_183627_151_M.mp4   \n",
              "3  Rec_20200202_185509_151_M.mp4  20200202_185509_151_M.mp4   \n",
              "4  Rec_20200202_190205_151_M.mp4  20200202_190205_151_M.mp4   \n",
              "\n",
              "             Img_Frame  \n",
              "0  Rec_20200202_174020  \n",
              "1  Rec_20200202_183054  \n",
              "2  Rec_20200202_183627  \n",
              "3  Rec_20200202_185509  \n",
              "4  Rec_20200202_190205  "
            ]
          },
          "execution_count": 188,
          "metadata": {},
          "output_type": "execute_result"
        }
      ],
      "source": [
        "df_mp4.head()"
      ]
    },
    {
      "cell_type": "code",
      "execution_count": null,
      "metadata": {
        "id": "olaEc4r5R9M4"
      },
      "outputs": [],
      "source": [
        ""
      ]
    },
    {
      "cell_type": "code",
      "execution_count": null,
      "metadata": {
        "id": "9P_fHRUaR9M4",
        "outputId": "2725155b-dc76-4757-c390-bbd114002897"
      },
      "outputs": [
        {
          "data": {
            "text/plain": [
              "(328, 8)"
            ]
          },
          "execution_count": 189,
          "metadata": {},
          "output_type": "execute_result"
        }
      ],
      "source": [
        "df_mp4.shape"
      ]
    },
    {
      "cell_type": "code",
      "execution_count": null,
      "metadata": {
        "id": "pOxyR_lmR9M5",
        "outputId": "ed8b59f8-7ed2-47c6-e05d-aaaae28c9d0f"
      },
      "outputs": [
        {
          "data": {
            "text/plain": [
              "'C:\\\\Users\\\\Bipen\\\\Desktop\\\\open_cv\\\\frm_128'"
            ]
          },
          "execution_count": 195,
          "metadata": {},
          "output_type": "execute_result"
        }
      ],
      "source": [
        "pwd"
      ]
    },
    {
      "cell_type": "code",
      "execution_count": null,
      "metadata": {
        "id": "H0596BL8R9M5"
      },
      "outputs": [],
      "source": [
        "working_dir  = (\"C:\\\\Users\\Bipen\\\\Desktop\\\\open_cv\\\\\")\n",
        "os.chdir(working_dir)\n",
        "\n",
        "# Opens the Video file\n",
        "frame_ts = []\n",
        "frame_id = []\n",
        "video_id = []\n",
        "\n",
        "#Change it to Last frameID in the storage eg last extract frame ID was \n",
        "j=j_max \n",
        "root='C:\\\\Users\\Bipen\\\\Desktop\\\\open_cv\\\\raw_video_incrmntl\\\\'\n",
        "for row in df_mp4.itertuples():\n",
        "    vd_frm=str(root) + str(row.Video_Frame)\n",
        "    vdo_id=str(row.Video_Frame)\n",
        "    img_frm = str(row.Img_Frame)\n",
        "    #print(vd_frm)\n",
        "    cap= cv2.VideoCapture(vd_frm)\n",
        "    i=1\n",
        "    while(cap.isOpened()):\n",
        "            ret, frame = cap.read()\n",
        "            if ret == False:\n",
        "                break   \n",
        "            if i%25 == 0:\n",
        "                # Saves image of the current frame in jpg file\n",
        "                name = './frm_128/frame' + str(j) + '.jpg'\n",
        "                img_id = 'frame' + str(j) + '.jpg'\n",
        "                #print(name)\n",
        "                \n",
        "                cv2.imwrite('kang'+str(i)+'.png',frame)\n",
        "                j+=1 \n",
        "                cv2.imwrite(name,frame)\n",
        "                frame_ts.append(img_frm)\n",
        "                frame_id.append(img_id)\n",
        "                video_id. append(vdo_id)\n",
        "\n",
        "            i+=1\n",
        "           \n",
        " \n",
        "    cap.release()\n",
        "    \n",
        "    cv2.destroyAllWindows()"
      ]
    },
    {
      "cell_type": "code",
      "execution_count": null,
      "metadata": {
        "id": "KpmDHsuOR9M5"
      },
      "outputs": [],
      "source": [
        "df_frmTs= pd.DataFrame(frame_ts,columns = ['Frame_Ts'] )\n",
        "df_frmID= pd.DataFrame(frame_id,columns = ['Frame_Id'] )\n",
        "df_video_id= pd.DataFrame(video_id,columns = ['video_frame'] )"
      ]
    },
    {
      "cell_type": "code",
      "execution_count": null,
      "metadata": {
        "id": "Sy9SzBPKR9M6"
      },
      "outputs": [],
      "source": [
        "myFrameNumber = 50\n",
        "cap = cv2.VideoCapture(\"video.mp4\")\n",
        "\n",
        "# get total number of frames\n",
        "totalFrames = cap.get(cv2.CAP_PROP_FRAME_COUNT)\n",
        "\n",
        "# check for valid frame number\n",
        "if myFrameNumber >= 0 & myFrameNumber <= totalFrames:\n",
        "    # set frame position\n",
        "    cap.set(cv2.CAP_PROP_POS_FRAMES,myFrameNumber)\n",
        "\n",
        "while True:\n",
        "    ret, frame = cap.read()\n",
        "    cv2.imshow(\"Video\", frame)\n",
        "    if cv2.waitKey(20) & 0xFF == ord('q'):\n",
        "        break\n",
        "\n",
        "cv2.destroyAllWindows()"
      ]
    },
    {
      "cell_type": "code",
      "execution_count": null,
      "metadata": {
        "id": "bGbK3fd3R9M6"
      },
      "outputs": [],
      "source": [
        "df_img =  pd.concat([df_frmTs,df_frmID,df_video_id], axis=1)"
      ]
    },
    {
      "cell_type": "code",
      "execution_count": null,
      "metadata": {
        "id": "FNk8wDYaR9M6",
        "outputId": "2c6c3959-f229-4362-9cbd-e8298b08b08b"
      },
      "outputs": [
        {
          "data": {
            "text/html": [
              "<div>\n",
              "<style scoped>\n",
              "    .dataframe tbody tr th:only-of-type {\n",
              "        vertical-align: middle;\n",
              "    }\n",
              "\n",
              "    .dataframe tbody tr th {\n",
              "        vertical-align: top;\n",
              "    }\n",
              "\n",
              "    .dataframe thead th {\n",
              "        text-align: right;\n",
              "    }\n",
              "</style>\n",
              "<table border=\"1\" class=\"dataframe\">\n",
              "  <thead>\n",
              "    <tr style=\"text-align: right;\">\n",
              "      <th></th>\n",
              "      <th>Frame_Ts</th>\n",
              "      <th>Frame_Id</th>\n",
              "      <th>video_frame</th>\n",
              "    </tr>\n",
              "  </thead>\n",
              "  <tbody>\n",
              "    <tr>\n",
              "      <th>0</th>\n",
              "      <td>Rec_20200202_174020</td>\n",
              "      <td>frame8935.jpg</td>\n",
              "      <td>Rec_20200202_174020_151_M.mp4</td>\n",
              "    </tr>\n",
              "    <tr>\n",
              "      <th>1</th>\n",
              "      <td>Rec_20200202_174020</td>\n",
              "      <td>frame8936.jpg</td>\n",
              "      <td>Rec_20200202_174020_151_M.mp4</td>\n",
              "    </tr>\n",
              "    <tr>\n",
              "      <th>2</th>\n",
              "      <td>Rec_20200202_174020</td>\n",
              "      <td>frame8937.jpg</td>\n",
              "      <td>Rec_20200202_174020_151_M.mp4</td>\n",
              "    </tr>\n",
              "    <tr>\n",
              "      <th>3</th>\n",
              "      <td>Rec_20200202_174020</td>\n",
              "      <td>frame8938.jpg</td>\n",
              "      <td>Rec_20200202_174020_151_M.mp4</td>\n",
              "    </tr>\n",
              "    <tr>\n",
              "      <th>4</th>\n",
              "      <td>Rec_20200202_174020</td>\n",
              "      <td>frame8939.jpg</td>\n",
              "      <td>Rec_20200202_174020_151_M.mp4</td>\n",
              "    </tr>\n",
              "    <tr>\n",
              "      <th>...</th>\n",
              "      <td>...</td>\n",
              "      <td>...</td>\n",
              "      <td>...</td>\n",
              "    </tr>\n",
              "    <tr>\n",
              "      <th>6946</th>\n",
              "      <td>Rec_20200207_000620</td>\n",
              "      <td>frame15881.jpg</td>\n",
              "      <td>Rec_20200207_000620_151_M.mp4</td>\n",
              "    </tr>\n",
              "    <tr>\n",
              "      <th>6947</th>\n",
              "      <td>Rec_20200207_000620</td>\n",
              "      <td>frame15882.jpg</td>\n",
              "      <td>Rec_20200207_000620_151_M.mp4</td>\n",
              "    </tr>\n",
              "    <tr>\n",
              "      <th>6948</th>\n",
              "      <td>Rec_20200207_000620</td>\n",
              "      <td>frame15883.jpg</td>\n",
              "      <td>Rec_20200207_000620_151_M.mp4</td>\n",
              "    </tr>\n",
              "    <tr>\n",
              "      <th>6949</th>\n",
              "      <td>Rec_20200207_000620</td>\n",
              "      <td>frame15884.jpg</td>\n",
              "      <td>Rec_20200207_000620_151_M.mp4</td>\n",
              "    </tr>\n",
              "    <tr>\n",
              "      <th>6950</th>\n",
              "      <td>Rec_20200207_000620</td>\n",
              "      <td>frame15885.jpg</td>\n",
              "      <td>Rec_20200207_000620_151_M.mp4</td>\n",
              "    </tr>\n",
              "  </tbody>\n",
              "</table>\n",
              "<p>6951 rows × 3 columns</p>\n",
              "</div>"
            ],
            "text/plain": [
              "                 Frame_Ts        Frame_Id                    video_frame\n",
              "0     Rec_20200202_174020  frame8935.jpg   Rec_20200202_174020_151_M.mp4\n",
              "1     Rec_20200202_174020  frame8936.jpg   Rec_20200202_174020_151_M.mp4\n",
              "2     Rec_20200202_174020  frame8937.jpg   Rec_20200202_174020_151_M.mp4\n",
              "3     Rec_20200202_174020  frame8938.jpg   Rec_20200202_174020_151_M.mp4\n",
              "4     Rec_20200202_174020  frame8939.jpg   Rec_20200202_174020_151_M.mp4\n",
              "...                   ...            ...                             ...\n",
              "6946  Rec_20200207_000620  frame15881.jpg  Rec_20200207_000620_151_M.mp4\n",
              "6947  Rec_20200207_000620  frame15882.jpg  Rec_20200207_000620_151_M.mp4\n",
              "6948  Rec_20200207_000620  frame15883.jpg  Rec_20200207_000620_151_M.mp4\n",
              "6949  Rec_20200207_000620  frame15884.jpg  Rec_20200207_000620_151_M.mp4\n",
              "6950  Rec_20200207_000620  frame15885.jpg  Rec_20200207_000620_151_M.mp4\n",
              "\n",
              "[6951 rows x 3 columns]"
            ]
          },
          "execution_count": 211,
          "metadata": {},
          "output_type": "execute_result"
        }
      ],
      "source": [
        "df_img"
      ]
    },
    {
      "cell_type": "markdown",
      "metadata": {
        "id": "s9t5dF7-R9M6"
      },
      "source": [
        "# Store the Image Frames on Database too."
      ]
    },
    {
      "cell_type": "code",
      "execution_count": null,
      "metadata": {
        "id": "LoqNsMWyR9M7"
      },
      "outputs": [],
      "source": [
        "df_img.to_sql(con=database_connection, name='image_frame', if_exists='append', index=False)"
      ]
    },
    {
      "cell_type": "code",
      "execution_count": null,
      "metadata": {
        "id": "n-W8XvaaR9M7"
      },
      "outputs": [],
      "source": [
        "df_img = pd.read_sql('select * from image_frame',con=database_connection)"
      ]
    },
    {
      "cell_type": "code",
      "execution_count": null,
      "metadata": {
        "id": "YbGNVa1KR9M7",
        "outputId": "0ec62712-d863-4c7f-a49c-052a83ae00bc"
      },
      "outputs": [
        {
          "data": {
            "text/html": [
              "<div>\n",
              "<style scoped>\n",
              "    .dataframe tbody tr th:only-of-type {\n",
              "        vertical-align: middle;\n",
              "    }\n",
              "\n",
              "    .dataframe tbody tr th {\n",
              "        vertical-align: top;\n",
              "    }\n",
              "\n",
              "    .dataframe thead th {\n",
              "        text-align: right;\n",
              "    }\n",
              "</style>\n",
              "<table border=\"1\" class=\"dataframe\">\n",
              "  <thead>\n",
              "    <tr style=\"text-align: right;\">\n",
              "      <th></th>\n",
              "      <th>Frame_Ts</th>\n",
              "      <th>Frame_Id</th>\n",
              "      <th>video_frame</th>\n",
              "    </tr>\n",
              "  </thead>\n",
              "  <tbody>\n",
              "    <tr>\n",
              "      <th>0</th>\n",
              "      <td>Rec_20200118_162340</td>\n",
              "      <td>frame0.jpg</td>\n",
              "      <td>Rec_20200118_162340_151_M.mp4</td>\n",
              "    </tr>\n",
              "    <tr>\n",
              "      <th>1</th>\n",
              "      <td>Rec_20200118_162340</td>\n",
              "      <td>frame1.jpg</td>\n",
              "      <td>Rec_20200118_162340_151_M.mp4</td>\n",
              "    </tr>\n",
              "  </tbody>\n",
              "</table>\n",
              "</div>"
            ],
            "text/plain": [
              "              Frame_Ts    Frame_Id                    video_frame\n",
              "0  Rec_20200118_162340  frame0.jpg  Rec_20200118_162340_151_M.mp4\n",
              "1  Rec_20200118_162340  frame1.jpg  Rec_20200118_162340_151_M.mp4"
            ]
          },
          "execution_count": 9,
          "metadata": {},
          "output_type": "execute_result"
        }
      ],
      "source": [
        "df_img.head(2)"
      ]
    },
    {
      "cell_type": "markdown",
      "metadata": {
        "id": "opuMkvHeR9M7"
      },
      "source": [
        "# This is a big Query to Label the Frame and weith condition"
      ]
    },
    {
      "cell_type": "code",
      "execution_count": null,
      "metadata": {
        "id": "YSHYIlHbR9M8",
        "outputId": "21855323-9e31-4f2a-be28-8b5ef2b75e6b"
      },
      "outputs": [
        {
          "data": {
            "text/plain": [
              "'select * from image_frame'"
            ]
          },
          "execution_count": 6,
          "metadata": {},
          "output_type": "execute_result"
        }
      ],
      "source": [
        "df_img"
      ]
    },
    {
      "cell_type": "raw",
      "metadata": {
        "id": "scTIsLvcR9M8"
      },
      "source": [
        "SELECT COUNT(*)FRAME_COUNT,precipType,summary,icon\n",
        "FROM (\n",
        "select Video_time,frame_id,summary,icon,precipIntensity,precipType,temperature,humidity from (\n",
        "select * from (select  distinct DATE_FORMAT(DATE_ADD((from_unixtime(orig_vid_ts)), INTERVAL 30 MINUTE),'%Y-%m-%d %H:00')Video_time,im.* from image_frame im \n",
        "join video_frame vd on vd.Video_Frame = im.video_frame)A\n",
        "join (SELECT DATE_FORMAT(from_unixtime(`time`),'%Y-%m-%d %H:00')DrkSkyAPI_time, summary, icon, precipIntensity, \n",
        "precipProbability, precipType, precipAccumulation, temperature, apparentTemperature, \n",
        "  dewPoint, humidity, pressure, windSpeed, windGust, windBearing, cloudCover, uvIndex, visibility, ozone \n",
        "  FROM ec_sensors.video_weather)wthr \n",
        "  on A.Video_time=wthr.DrkSkyAPI_time)a\n",
        "  )B group by precipType,summary,icon\n",
        "order by 1 desc;"
      ]
    },
    {
      "cell_type": "markdown",
      "metadata": {
        "id": "eJDWt-XNR9M8"
      },
      "source": [
        "# Resize Images to 128 x 128 (required size for MobileNetV2)"
      ]
    },
    {
      "cell_type": "code",
      "execution_count": null,
      "metadata": {
        "id": "MPm8t67CR9M9",
        "outputId": "4d76a73e-1698-4bb2-d8ec-949264838257"
      },
      "outputs": [
        {
          "data": {
            "text/plain": [
              "'C:\\\\Users\\\\Bipen\\\\Desktop\\\\open_cv\\\\frm_128'"
            ]
          },
          "execution_count": 11,
          "metadata": {},
          "output_type": "execute_result"
        }
      ],
      "source": [
        "pwd"
      ]
    },
    {
      "cell_type": "code",
      "execution_count": null,
      "metadata": {
        "id": "HiJgNZSDR9M9"
      },
      "outputs": [],
      "source": [
        "working_dir  =(\"C:\\\\Users\\\\Bipen\\Desktop\\\\open_cv\\\\frm_128\")\n",
        "#C:\\Users\\Bipen\\Desktop\\open_cv\\frm_128\n",
        "os.chdir(working_dir)\n",
        "img_fldr=\"C:\\\\Users\\\\Bipen\\\\Desktop\\\\open_cv\\\\frm_128\\\\\"\n",
        "#for row in df_img.head(2).itertuples():\n",
        "for row in df_img.itertuples():\n",
        "    img_frm=str(img_fldr) + str(row.Frame_Id)\n",
        "    #img_frm = str(row.Orig_Fname)\n",
        "    #print(img_frm)\n",
        "    img = cv2.imread(img_frm)\n",
        "    #print('Here')\n",
        "    img_scaled = cv2.resize(img, (128,128), interpolation = cv2.INTER_CUBIC)\n",
        "    cv2.imwrite(img_frm,img_scaled,)"
      ]
    },
    {
      "cell_type": "code",
      "execution_count": null,
      "metadata": {
        "id": "MyEArMCmR9M9"
      },
      "outputs": [],
      "source": [
        ""
      ]
    },
    {
      "cell_type": "code",
      "execution_count": null,
      "metadata": {
        "id": "q6rP6QG-R9M9"
      },
      "outputs": [],
      "source": [
        "working_dir  =(\"C:\\\\Users\\Bipen\\\\Desktop\\\\open_cv\\\\FloodClass\\\\\\minor_flood\\\\\")\n",
        "os.chdir(working_dir)"
      ]
    },
    {
      "cell_type": "code",
      "execution_count": null,
      "metadata": {
        "id": "_SicBKf0R9M-"
      },
      "outputs": [],
      "source": [
        "sel_stmt='select * from FLOOD_LABEL'"
      ]
    },
    {
      "cell_type": "code",
      "execution_count": null,
      "metadata": {
        "id": "gWD1CeVHR9M-"
      },
      "outputs": [],
      "source": [
        "df_img_label =pd.read_sql(sel_stmt, con=database_connection)"
      ]
    },
    {
      "cell_type": "code",
      "execution_count": null,
      "metadata": {
        "id": "GacqfTLDR9M-",
        "outputId": "e8ffb6e7-3602-46cd-9e6b-fb50507deffc"
      },
      "outputs": [
        {
          "data": {
            "text/plain": [
              "(15886, 3)"
            ]
          },
          "execution_count": 18,
          "metadata": {},
          "output_type": "execute_result"
        }
      ],
      "source": [
        "df_img_label.shape"
      ]
    },
    {
      "cell_type": "code",
      "execution_count": null,
      "metadata": {
        "id": "hqpIEPENR9M-",
        "outputId": "582daca7-2127-49d2-e874-47b12588ae6d"
      },
      "outputs": [
        {
          "data": {
            "text/plain": [
              "(8935, 3)"
            ]
          },
          "execution_count": 111,
          "metadata": {},
          "output_type": "execute_result"
        }
      ],
      "source": [
        "df_img_label.shape"
      ]
    },
    {
      "cell_type": "code",
      "execution_count": null,
      "metadata": {
        "id": "qXwD6bzWR9M_"
      },
      "outputs": [],
      "source": [
        "minor_flood_df = df_img_label[df_img_label['Flood_Label'] == 'Minor Flood']\n",
        "no_flood_df = df_img_label[df_img_label['Flood_Label'] == 'No Flood']\n",
        "flood_df = df_img_label[df_img_label['Flood_Label'] == 'Flood']"
      ]
    },
    {
      "cell_type": "code",
      "execution_count": null,
      "metadata": {
        "id": "bU0FE4TfR9M_"
      },
      "outputs": [],
      "source": [
        "minor_flood = minor_flood_df['frame_id'].tolist()"
      ]
    },
    {
      "cell_type": "code",
      "execution_count": null,
      "metadata": {
        "id": "QvBiQWrVR9M_"
      },
      "outputs": [],
      "source": [
        "flood = flood_df['frame_id'].tolist()\n",
        "no_flood = no_flood_df['frame_id'].tolist()\n",
        "minor_flood = minor_flood_df['frame_id'].tolist()"
      ]
    },
    {
      "cell_type": "code",
      "execution_count": null,
      "metadata": {
        "id": "L78lJFVqR9M_"
      },
      "outputs": [],
      "source": [
        "minor_flood"
      ]
    },
    {
      "cell_type": "code",
      "execution_count": null,
      "metadata": {
        "id": "M7carGCrR9NA",
        "outputId": "6186d1f3-1387-47b7-cf40-9b38b2e6a9e3"
      },
      "outputs": [
        {
          "name": "stdout",
          "output_type": "stream",
          "text": [
            "Total Flood Label Images are: 322\n"
          ]
        }
      ],
      "source": [
        "print ('Total Flood Label Images are: ' + str(len(flood)))\n"
      ]
    },
    {
      "cell_type": "code",
      "execution_count": null,
      "metadata": {
        "id": "o_wH0h3DR9NA",
        "outputId": "03ef24b3-724b-49a6-fc9a-067b2a886672"
      },
      "outputs": [
        {
          "name": "stdout",
          "output_type": "stream",
          "text": [
            "Total No Flood Label Images are: 13124\n"
          ]
        }
      ],
      "source": [
        "print ('Total No Flood Label Images are: ' + str(len(no_flood)))"
      ]
    },
    {
      "cell_type": "code",
      "execution_count": null,
      "metadata": {
        "id": "JOT1Y439R9NA",
        "outputId": "e75f0139-6411-4af7-fb55-65f0049db649"
      },
      "outputs": [
        {
          "name": "stdout",
          "output_type": "stream",
          "text": [
            "Total Minor Flood Label Images are: 2440\n"
          ]
        }
      ],
      "source": [
        "print ('Total Minor Flood Label Images are: ' + str(len(minor_flood)))"
      ]
    },
    {
      "cell_type": "code",
      "execution_count": null,
      "metadata": {
        "id": "oVroCCWuR9NA",
        "outputId": "916fce0d-0fa3-4da2-8a1d-6131e2f3b2b6"
      },
      "outputs": [
        {
          "data": {
            "text/html": [
              "<div>\n",
              "<style scoped>\n",
              "    .dataframe tbody tr th:only-of-type {\n",
              "        vertical-align: middle;\n",
              "    }\n",
              "\n",
              "    .dataframe tbody tr th {\n",
              "        vertical-align: top;\n",
              "    }\n",
              "\n",
              "    .dataframe thead th {\n",
              "        text-align: right;\n",
              "    }\n",
              "</style>\n",
              "<table border=\"1\" class=\"dataframe\">\n",
              "  <thead>\n",
              "    <tr style=\"text-align: right;\">\n",
              "      <th></th>\n",
              "      <th>precipIntensity</th>\n",
              "      <th>frame_id</th>\n",
              "      <th>Flood_Label</th>\n",
              "    </tr>\n",
              "  </thead>\n",
              "  <tbody>\n",
              "    <tr>\n",
              "      <th>3808</th>\n",
              "      <td>0.0912</td>\n",
              "      <td>frame3808.jpg</td>\n",
              "      <td>Flood</td>\n",
              "    </tr>\n",
              "    <tr>\n",
              "      <th>3809</th>\n",
              "      <td>0.0912</td>\n",
              "      <td>frame3809.jpg</td>\n",
              "      <td>Flood</td>\n",
              "    </tr>\n",
              "    <tr>\n",
              "      <th>3810</th>\n",
              "      <td>0.0912</td>\n",
              "      <td>frame3810.jpg</td>\n",
              "      <td>Flood</td>\n",
              "    </tr>\n",
              "    <tr>\n",
              "      <th>3811</th>\n",
              "      <td>0.0912</td>\n",
              "      <td>frame3811.jpg</td>\n",
              "      <td>Flood</td>\n",
              "    </tr>\n",
              "    <tr>\n",
              "      <th>3812</th>\n",
              "      <td>0.0912</td>\n",
              "      <td>frame3812.jpg</td>\n",
              "      <td>Flood</td>\n",
              "    </tr>\n",
              "    <tr>\n",
              "      <th>...</th>\n",
              "      <td>...</td>\n",
              "      <td>...</td>\n",
              "      <td>...</td>\n",
              "    </tr>\n",
              "    <tr>\n",
              "      <th>4107</th>\n",
              "      <td>0.0690</td>\n",
              "      <td>frame4107.jpg</td>\n",
              "      <td>Flood</td>\n",
              "    </tr>\n",
              "    <tr>\n",
              "      <th>4108</th>\n",
              "      <td>0.0690</td>\n",
              "      <td>frame4108.jpg</td>\n",
              "      <td>Flood</td>\n",
              "    </tr>\n",
              "    <tr>\n",
              "      <th>4109</th>\n",
              "      <td>0.0690</td>\n",
              "      <td>frame4109.jpg</td>\n",
              "      <td>Flood</td>\n",
              "    </tr>\n",
              "    <tr>\n",
              "      <th>4110</th>\n",
              "      <td>0.0690</td>\n",
              "      <td>frame4110.jpg</td>\n",
              "      <td>Flood</td>\n",
              "    </tr>\n",
              "    <tr>\n",
              "      <th>4111</th>\n",
              "      <td>0.0690</td>\n",
              "      <td>frame4111.jpg</td>\n",
              "      <td>Flood</td>\n",
              "    </tr>\n",
              "  </tbody>\n",
              "</table>\n",
              "<p>304 rows × 3 columns</p>\n",
              "</div>"
            ],
            "text/plain": [
              "      precipIntensity       frame_id Flood_Label\n",
              "3808  0.0912           frame3808.jpg  Flood     \n",
              "3809  0.0912           frame3809.jpg  Flood     \n",
              "3810  0.0912           frame3810.jpg  Flood     \n",
              "3811  0.0912           frame3811.jpg  Flood     \n",
              "3812  0.0912           frame3812.jpg  Flood     \n",
              "...      ...                     ...    ...     \n",
              "4107  0.0690           frame4107.jpg  Flood     \n",
              "4108  0.0690           frame4108.jpg  Flood     \n",
              "4109  0.0690           frame4109.jpg  Flood     \n",
              "4110  0.0690           frame4110.jpg  Flood     \n",
              "4111  0.0690           frame4111.jpg  Flood     \n",
              "\n",
              "[304 rows x 3 columns]"
            ]
          },
          "execution_count": 145,
          "metadata": {},
          "output_type": "execute_result"
        }
      ],
      "source": [
        "flood_df"
      ]
    },
    {
      "cell_type": "code",
      "execution_count": null,
      "metadata": {
        "id": "8AeKJwIrR9NB",
        "outputId": "754387b0-868d-4b58-9c95-265d98d22f84"
      },
      "outputs": [
        {
          "name": "stderr",
          "output_type": "stream",
          "text": [
            "No handles with labels found to put in legend.\n"
          ]
        },
        {
          "data": {
            "image/png": "[encoded data removed]",
            "text/plain": [
              "<Figure size 432x288 with 1 Axes>"
            ]
          },
          "metadata": {
            "needs_background": "light"
          },
          "output_type": "display_data"
        }
      ],
      "source": [
        "import numpy as np\n",
        "import matplotlib.pyplot as plt\n",
        " \n",
        "# Make a fake dataset:\n",
        "height = [len(minor_flood), len(no_flood),len(flood)]\n",
        "height1 = [(len(minor_flood)*3), (len(no_flood)/2),(len(flood)*20)]\n",
        "bars = ('Minor Flood', 'No Flood', 'flood')\n",
        "#plt.bar(r1, bars1, width = barWidth, color = (0.3,0.1,0.4,0.6), label='Flood')\n",
        "y_pos = np.arange(len(bars))\n",
        " \n",
        "# Create bars\n",
        "plt.bar(y_pos, height,width = .5, color = (0.3,0.5,0.4,0.6))\n",
        "plt.bar(y_pos, height1,width = .5, color = (0.3,0.5,0.4,0.6)) \n",
        "# Create names on the x-axis\n",
        "plt.xticks(y_pos, bars)\n",
        "\n",
        "\n",
        "# Add title and axis names\n",
        "plt.title('Class Imbalance')\n",
        "plt.xlabel('Class Labels')\n",
        "plt.ylabel('Avilable Image Frame by Class Label')\n",
        "\n",
        "plt.legend()\n",
        "\n",
        "\n",
        "# Adjust the margins\n",
        "plt.subplots_adjust(bottom= 0.2, top = 0.98)\n",
        "# Show graphic\n",
        "plt.show()\n"
      ]
    },
    {
      "cell_type": "code",
      "execution_count": null,
      "metadata": {
        "id": "AsT0aM5RR9NB",
        "outputId": "3a61726f-98f9-43b7-cd7f-465282fb1336"
      },
      "outputs": [
        {
          "data": {
            "image/png": "[encoded data removed]",
            "text/plain": [
              "<Figure size 480x320 with 1 Axes>"
            ]
          },
          "metadata": {},
          "output_type": "display_data"
        }
      ],
      "source": [
        "# libraries\n",
        "import numpy as np\n",
        "import matplotlib.pyplot as plt\n",
        " \n",
        "# set width of bar\n",
        "barWidth = 0.15\n",
        "\n",
        "from matplotlib.pyplot import figure\n",
        "figure(num=None, figsize=(6, 4), dpi=80, facecolor='w', edgecolor='k')\n",
        "\n",
        "#height = [len(minor_flood), len(no_flood),len(flood)]\n",
        "#height1 = [(len(minor_flood)*3), (len(no_flood)/2),(len(flood)*5)]\n",
        "# set height of bar\n",
        "bars1 = [len(minor_flood), (len(minor_flood)*1.75)]\n",
        "bars2 = [len(flood), len(flood)*15]\n",
        "bars3 = [len(no_flood), len(no_flood)/2.5]\n",
        " \n",
        "# Set position of bar on X axis\n",
        "r1 = np.arange(len(bars1))\n",
        "r2 = [x + barWidth for x in r1]\n",
        "r3 = [x + barWidth for x in r2]\n",
        " \n",
        "# Make the plot\n",
        "plt.bar(r1, bars1, color='#00bfff', width=barWidth, edgecolor='white', label='Minor Flood')\n",
        "plt.bar(r2, bars2, color='#ff0040', width=barWidth, edgecolor='white', label='Flood')\n",
        "plt.bar(r3, bars3, color='#1a6600', width=barWidth, edgecolor='white', label='No Flood')\n",
        " \n",
        "# Add xticks on the middle of the group bars\n",
        "plt.xlabel('Class Label Re-distribution', fontweight='bold')\n",
        "plt.xticks([r + barWidth for r in range(len(bars1))], ['Before ReSampling', 'After ReSampling'])\n",
        " \n",
        "# Create legend & Show graphic\n",
        "plt.legend()\n",
        "plt.show()\n"
      ]
    },
    {
      "cell_type": "code",
      "execution_count": null,
      "metadata": {
        "id": "sxJzJh1hR9NB",
        "outputId": "5b7ecd67-f631-4611-9fdc-d333c4112c7c"
      },
      "outputs": [
        {
          "data": {
            "text/plain": [
              "['frame3815.jpg',\n",
              " 'frame3816.jpg',\n",
              " 'frame3817.jpg',\n",
              " 'frame3818.jpg',\n",
              " 'frame3819.jpg']"
            ]
          },
          "execution_count": 150,
          "metadata": {},
          "output_type": "execute_result"
        }
      ],
      "source": [
        "flood[7:12]"
      ]
    },
    {
      "cell_type": "markdown",
      "metadata": {
        "id": "OWdHGDqPR9NC"
      },
      "source": [
        "# SECTION (FLOOD IMAGE LABELING)"
      ]
    },
    {
      "cell_type": "markdown",
      "metadata": {
        "id": "aFdVBCcSR9NC"
      },
      "source": [
        "### This moves all the File to Flood Folder"
      ]
    },
    {
      "cell_type": "code",
      "execution_count": null,
      "metadata": {
        "id": "AJjSDxk_R9NC"
      },
      "outputs": [],
      "source": [
        "working_dir  =(\"C:\\\\Users\\\\Bipen\\\\Desktop\\\\open_cv\\\\frm_128\\\\\")\n",
        "os.chdir(working_dir)\n",
        "\n",
        "src_fldr= 'C:\\\\Users\\\\Bipen\\\\Desktop\\\\open_cv\\\\frm_128\\\\'\n",
        "tgt_fldr = 'C:\\\\Users\\\\Bipen\\Desktop\\\\open_cv\\\\FloodClass\\\\flood\\\\'\n",
        "\n",
        "\n",
        "import shutil, os\n",
        "files = flood\n",
        "for f in files:\n",
        "    src= (src_fldr + f)\n",
        "    tgt= (tgt_fldr + f)\n",
        "    #print(src)\n",
        "    #print(tgt)\n",
        "    shutil.move(src, tgt)"
      ]
    },
    {
      "cell_type": "markdown",
      "metadata": {
        "id": "1tCx3fHwR9NC"
      },
      "source": [
        "### This moves all the File to Minor Flood Folder"
      ]
    },
    {
      "cell_type": "code",
      "execution_count": null,
      "metadata": {
        "id": "Dlz2Gi_PR9ND"
      },
      "outputs": [],
      "source": [
        "working_dir  =(\"C:\\\\Users\\\\Bipen\\\\Desktop\\\\open_cv\\\\frm_128\\\\\")\n",
        "os.chdir(working_dir)\n",
        "\n",
        "src_fldr= 'C:\\\\Users\\\\Bipen\\\\Desktop\\\\open_cv\\\\frm_128\\\\'\n",
        "tgt_fldr = 'C:\\\\Users\\\\Bipen\\Desktop\\\\open_cv\\\\FloodClass\\\\minor_flood\\\\'\n",
        "\n",
        "\n",
        "import shutil, os\n",
        "files = minor_flood\n",
        "for f in files:\n",
        "    src= (src_fldr + f)\n",
        "    tgt= (tgt_fldr + f)\n",
        "    #print(src)\n",
        "    #print(tgt)\n",
        "    shutil.move(src, tgt)"
      ]
    },
    {
      "cell_type": "markdown",
      "metadata": {
        "id": "U7GvtxycR9ND"
      },
      "source": [
        "###  This moves all the File to No Flood Folder"
      ]
    },
    {
      "cell_type": "code",
      "execution_count": null,
      "metadata": {
        "id": "RKwH090HR9ND"
      },
      "outputs": [],
      "source": [
        "working_dir  =(\"C:\\\\Users\\\\Bipen\\\\Desktop\\\\open_cv\\\\frm_128\\\\\")\n",
        "os.chdir(working_dir)\n",
        "\n",
        "src_fldr= 'C:\\\\Users\\\\Bipen\\\\Desktop\\\\open_cv\\\\frm_128\\\\'\n",
        "tgt_fldr = 'C:\\\\Users\\\\Bipen\\Desktop\\\\open_cv\\\\FloodClass\\\\no_flood\\\\'\n",
        "\n",
        "\n",
        "import shutil, os\n",
        "files = no_flood\n",
        "for f in files:\n",
        "    src= (src_fldr + f)\n",
        "    tgt= (tgt_fldr + f)\n",
        "    #print(src)\n",
        "    #print(tgt)\n",
        "    shutil.move(src, tgt)"
      ]
    },
    {
      "cell_type": "markdown",
      "metadata": {
        "id": "rkcLxTrIR9ND"
      },
      "source": [
        "# SECTION : OBJECT DETECTION "
      ]
    },
    {
      "cell_type": "markdown",
      "metadata": {
        "id": "vBdMl6sNR9NE"
      },
      "source": [
        "###  These images will be used for Object Detection"
      ]
    },
    {
      "cell_type": "code",
      "execution_count": null,
      "metadata": {
        "id": "UEV6WYOrR9NE"
      },
      "outputs": [],
      "source": [
        "sel_obj_det_stmt=\"SELECT * FROM FLOOD_LABEL WHERE FLOOD_label  in ('Flood','Minor Flood')  ORDER BY RAND() LIMIT 2000\""
      ]
    },
    {
      "cell_type": "code",
      "execution_count": null,
      "metadata": {
        "id": "y0n_eKXOR9NE"
      },
      "outputs": [],
      "source": [
        "df_obj_det =pd.read_sql(sel_obj_det_stmt, con=database_connection)"
      ]
    },
    {
      "cell_type": "code",
      "execution_count": null,
      "metadata": {
        "id": "IqINuGFhR9NE"
      },
      "outputs": [],
      "source": [
        "obj_detct = df_obj_det['frame_id'].tolist()"
      ]
    },
    {
      "cell_type": "code",
      "execution_count": null,
      "metadata": {
        "id": "XASV8pWVR9NE"
      },
      "outputs": [],
      "source": [
        "working_dir  =(\"C:\\\\Users\\\\Bipen\\\\Desktop\\\\open_cv\\\\frm_save_orig\")\n",
        "os.chdir(working_dir)\n",
        "\n",
        "src_fldr= 'C:\\\\Users\\\\Bipen\\Desktop\\\\open_cv\\\\frm_save_orig\\\\'\n",
        "tgt_fldr = 'C:\\\\Users\\\\Bipen\\\\Desktop\\\\open_cv\\\\flood_obj\\\\'\n",
        "\n",
        "\n",
        "import shutil, os\n",
        "files = obj_detct\n",
        "for f in files:\n",
        "    src= (src_fldr + f)\n",
        "    tgt= (tgt_fldr + f)\n",
        "    #print(src)\n",
        "    #print(tgt)\n",
        "    shutil.copy(src, tgt)"
      ]
    },
    {
      "cell_type": "code",
      "execution_count": null,
      "metadata": {
        "id": "lrTGf-GlR9NF",
        "outputId": "1888a6dd-3589-4bcc-a07d-6eff682f1678"
      },
      "outputs": [
        {
          "data": {
            "text/html": [
              "<div>\n",
              "<style scoped>\n",
              "    .dataframe tbody tr th:only-of-type {\n",
              "        vertical-align: middle;\n",
              "    }\n",
              "\n",
              "    .dataframe tbody tr th {\n",
              "        vertical-align: top;\n",
              "    }\n",
              "\n",
              "    .dataframe thead th {\n",
              "        text-align: right;\n",
              "    }\n",
              "</style>\n",
              "<table border=\"1\" class=\"dataframe\">\n",
              "  <thead>\n",
              "    <tr style=\"text-align: right;\">\n",
              "      <th></th>\n",
              "      <th>precipIntensity</th>\n",
              "      <th>frame_id</th>\n",
              "      <th>Flood_Label</th>\n",
              "    </tr>\n",
              "  </thead>\n",
              "  <tbody>\n",
              "    <tr>\n",
              "      <th>0</th>\n",
              "      <td>0.0189</td>\n",
              "      <td>frame9402.jpg</td>\n",
              "      <td>Minor Flood</td>\n",
              "    </tr>\n",
              "    <tr>\n",
              "      <th>1</th>\n",
              "      <td>0.0206</td>\n",
              "      <td>frame4192.jpg</td>\n",
              "      <td>Minor Flood</td>\n",
              "    </tr>\n",
              "    <tr>\n",
              "      <th>2</th>\n",
              "      <td>0.0834</td>\n",
              "      <td>frame3907.jpg</td>\n",
              "      <td>Flood</td>\n",
              "    </tr>\n",
              "    <tr>\n",
              "      <th>3</th>\n",
              "      <td>0.0189</td>\n",
              "      <td>frame9236.jpg</td>\n",
              "      <td>Minor Flood</td>\n",
              "    </tr>\n",
              "    <tr>\n",
              "      <th>4</th>\n",
              "      <td>0.0189</td>\n",
              "      <td>frame9129.jpg</td>\n",
              "      <td>Minor Flood</td>\n",
              "    </tr>\n",
              "    <tr>\n",
              "      <th>...</th>\n",
              "      <td>...</td>\n",
              "      <td>...</td>\n",
              "      <td>...</td>\n",
              "    </tr>\n",
              "    <tr>\n",
              "      <th>1995</th>\n",
              "      <td>0.0189</td>\n",
              "      <td>frame9340.jpg</td>\n",
              "      <td>Minor Flood</td>\n",
              "    </tr>\n",
              "    <tr>\n",
              "      <th>1996</th>\n",
              "      <td>0.0250</td>\n",
              "      <td>frame44.jpg</td>\n",
              "      <td>Minor Flood</td>\n",
              "    </tr>\n",
              "    <tr>\n",
              "      <th>1997</th>\n",
              "      <td>0.0076</td>\n",
              "      <td>frame476.jpg</td>\n",
              "      <td>Minor Flood</td>\n",
              "    </tr>\n",
              "    <tr>\n",
              "      <th>1998</th>\n",
              "      <td>0.0252</td>\n",
              "      <td>frame10184.jpg</td>\n",
              "      <td>Minor Flood</td>\n",
              "    </tr>\n",
              "    <tr>\n",
              "      <th>1999</th>\n",
              "      <td>0.0189</td>\n",
              "      <td>frame9324.jpg</td>\n",
              "      <td>Minor Flood</td>\n",
              "    </tr>\n",
              "  </tbody>\n",
              "</table>\n",
              "<p>2000 rows × 3 columns</p>\n",
              "</div>"
            ],
            "text/plain": [
              "      precipIntensity        frame_id  Flood_Label\n",
              "0     0.0189           frame9402.jpg   Minor Flood\n",
              "1     0.0206           frame4192.jpg   Minor Flood\n",
              "2     0.0834           frame3907.jpg   Flood      \n",
              "3     0.0189           frame9236.jpg   Minor Flood\n",
              "4     0.0189           frame9129.jpg   Minor Flood\n",
              "...      ...                     ...           ...\n",
              "1995  0.0189           frame9340.jpg   Minor Flood\n",
              "1996  0.0250           frame44.jpg     Minor Flood\n",
              "1997  0.0076           frame476.jpg    Minor Flood\n",
              "1998  0.0252           frame10184.jpg  Minor Flood\n",
              "1999  0.0189           frame9324.jpg   Minor Flood\n",
              "\n",
              "[2000 rows x 3 columns]"
            ]
          },
          "execution_count": 55,
          "metadata": {},
          "output_type": "execute_result"
        }
      ],
      "source": [
        "df_obj_det"
      ]
    },
    {
      "cell_type": "code",
      "execution_count": null,
      "metadata": {
        "id": "QdFkHGuYR9NF"
      },
      "outputs": [],
      "source": [
        "obj_detct"
      ]
    },
    {
      "cell_type": "code",
      "execution_count": null,
      "metadata": {
        "id": "Fqn7_w30R9NF"
      },
      "outputs": [],
      "source": [
        "df_obj_det.to_sql(con=database_connection, name='image_obj_detect_list', if_exists='append', index=False)"
      ]
    },
    {
      "cell_type": "code",
      "execution_count": null,
      "metadata": {
        "id": "Yez4VETtR9NF"
      },
      "outputs": [],
      "source": [
        "sel_URL_stmt=\"select CONCAT('http://209.208.111.221/ecsensors/img/flood_obj/' , frame_id)URL from image_obj_detect_list"
      ]
    },
    {
      "cell_type": "code",
      "execution_count": null,
      "metadata": {
        "id": "wWmQZO7yR9NG"
      },
      "outputs": [],
      "source": [
        "df_URL_obj_det =pd.read_sql(sel_URL_stmt, con=database_connection)"
      ]
    },
    {
      "cell_type": "code",
      "execution_count": null,
      "metadata": {
        "id": "UwV2QCBJR9NG"
      },
      "outputs": [],
      "source": [
        "df_URL_obj_det"
      ]
    },
    {
      "cell_type": "code",
      "execution_count": null,
      "metadata": {
        "id": "QJp2wREJR9NG"
      },
      "outputs": [],
      "source": [
        "image_urls  = []\n",
        "\n",
        "for row in df_URL_obj_det.itertuples():\n",
        "    url=str(row.URL)\n",
        "    URLS.append(url)"
      ]
    },
    {
      "cell_type": "code",
      "execution_count": null,
      "metadata": {
        "id": "KmxKNQ-ER9NG",
        "outputId": "910b6450-de39-4f28-883f-980ee301f0aa"
      },
      "outputs": [
        {
          "data": {
            "text/plain": [
              "2000"
            ]
          },
          "execution_count": 75,
          "metadata": {},
          "output_type": "execute_result"
        }
      ],
      "source": [
        "len(URLS)"
      ]
    },
    {
      "cell_type": "code",
      "execution_count": null,
      "metadata": {
        "id": "4B3mt4JHR9NH"
      },
      "outputs": [],
      "source": [
        "URLS\n"
      ]
    }
  ],
  "metadata": {
    "kernelspec": {
      "display_name": "Python 3",
      "language": "python",
      "name": "python3"
    },
    "language_info": {
      "codemirror_mode": {
        "name": "ipython",
        "version": 3
      },
      "file_extension": ".py",
      "mimetype": "text/x-python",
      "name": "python",
      "nbconvert_exporter": "python",
      "pygments_lexer": "ipython3",
      "version": "3.6.9"
    },
    "colab": {
      "name": "Image Based Detection.ipynb",
      "provenance": [],
      "collapsed_sections": [
        "gWhvclNWR9M0",
        "DLdRnwHdR9M0",
        "8pjr2TIlR9M2",
        "s9t5dF7-R9M6",
        "OWdHGDqPR9NC",
        "aFdVBCcSR9NC",
        "1tCx3fHwR9NC",
        "U7GvtxycR9ND"
      ],
      "include_colab_link": true
    }
  },
  "nbformat": 4,
  "nbformat_minor": 0
}